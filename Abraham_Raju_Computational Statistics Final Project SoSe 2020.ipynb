{
 "cells": [
  {
   "cell_type": "markdown",
   "metadata": {},
   "source": [
    "# Computational Statistics Final Project  SoSe 2020\n",
    "## Exploration of the Random Forest Algorithm\n",
    "*Abraham Raju*\n",
    "\n",
    "*UID:3296612*\n",
    "\n",
    "*University of Bonn*\n",
    "\n",
    "\n"
   ]
  },
  {
   "cell_type": "markdown",
   "metadata": {
    "toc": true
   },
   "source": [
    "<h1>Table of Contents<span class=\"tocSkip\"></span></h1>\n",
    "<div class=\"toc\"><ul class=\"toc-item\"><li><span><a href=\"#Computational-Statistics-Final-Project--SoSe-2020\" data-toc-modified-id=\"Computational-Statistics-Final-Project--SoSe-2020-1\">Computational Statistics Final Project  SoSe 2020</a></span><ul class=\"toc-item\"><li><span><a href=\"#Exploration-of-the-Random-Forest-Algorithm\" data-toc-modified-id=\"Exploration-of-the-Random-Forest-Algorithm-1.1\">Exploration of the Random Forest Algorithm</a></span></li><li><span><a href=\"#Overview\" data-toc-modified-id=\"Overview-1.2\">Overview</a></span></li><li><span><a href=\"#Selection-of-Random-Forest-Packages-in-Use-:\" data-toc-modified-id=\"Selection-of-Random-Forest-Packages-in-Use-:-1.3\">Selection of Random Forest Packages in Use :</a></span></li></ul></li><li><span><a href=\"#Section-1\" data-toc-modified-id=\"Section-1-2\">Section 1</a></span><ul class=\"toc-item\"><li><ul class=\"toc-item\"><li><ul class=\"toc-item\"><li><span><a href=\"#Law-of-Large-Numbers\" data-toc-modified-id=\"Law-of-Large-Numbers-2.0.0.1\">Law of Large Numbers</a></span></li><li><span><a href=\"#Decision-Trees\" data-toc-modified-id=\"Decision-Trees-2.0.0.2\">Decision Trees</a></span></li></ul></li><li><span><a href=\"#Bagging\" data-toc-modified-id=\"Bagging-2.0.1\">Bagging</a></span></li><li><span><a href=\"#Generalization-error-estimates\" data-toc-modified-id=\"Generalization-error-estimates-2.0.2\">Generalization error estimates</a></span><ul class=\"toc-item\"><li><span><a href=\"#Out-of-Bag-Error-Estimate\" data-toc-modified-id=\"Out-of-Bag-Error-Estimate-2.0.2.1\">Out of Bag Error Estimate</a></span></li></ul></li><li><span><a href=\"#Variable-Importance-Measures\" data-toc-modified-id=\"Variable-Importance-Measures-2.0.3\">Variable Importance Measures</a></span></li><li><span><a href=\"#1.-Permutation-Feature-Importance\" data-toc-modified-id=\"1.-Permutation-Feature-Importance-2.0.4\">1. Permutation Feature Importance</a></span></li><li><span><a href=\"#2.-Mean-Decrease-in-Impurity-(MDI)\" data-toc-modified-id=\"2.-Mean-Decrease-in-Impurity-(MDI)-2.0.5\">2. Mean Decrease in Impurity (MDI)</a></span></li><li><span><a href=\"#3.-Minimal-Depth-Measure\" data-toc-modified-id=\"3.-Minimal-Depth-Measure-2.0.6\">3. Minimal Depth Measure</a></span></li></ul></li></ul></li><li><span><a href=\"#Section-2\" data-toc-modified-id=\"Section-2-3\">Section 2</a></span><ul class=\"toc-item\"><li><ul class=\"toc-item\"><li><span><a href=\"#Benchmarking-the-model-with-an-Empirical-Research-Paper\" data-toc-modified-id=\"Benchmarking-the-model-with-an-Empirical-Research-Paper-3.0.1\">Benchmarking the model with an Empirical Research Paper</a></span><ul class=\"toc-item\"><li><span><a href=\"#Validating-the-choice-of-Empirical-Paper-for-Benchmarking\" data-toc-modified-id=\"Validating-the-choice-of-Empirical-Paper-for-Benchmarking-3.0.1.1\">Validating the choice of Empirical Paper for Benchmarking</a></span></li><li><span><a href=\"#Data-Description-(2.1)\" data-toc-modified-id=\"Data-Description-(2.1)-3.0.1.2\">Data Description (2.1)</a></span></li></ul></li><li><span><a href=\"#Data-Simulation\" data-toc-modified-id=\"Data-Simulation-3.0.2\">Data Simulation</a></span><ul class=\"toc-item\"><li><span><a href=\"#Variable-Description\" data-toc-modified-id=\"Variable-Description-3.0.2.1\">Variable Description</a></span></li><li><span><a href=\"#Checking-for-Homogenity-of-Treatment-Groups.\" data-toc-modified-id=\"Checking-for-Homogenity-of-Treatment-Groups.-3.0.2.2\">Checking for Homogenity of Treatment Groups.</a></span></li></ul></li><li><span><a href=\"#Exploratory-Data-Analysis\" data-toc-modified-id=\"Exploratory-Data-Analysis-3.0.3\">Exploratory Data Analysis</a></span></li><li><span><a href=\"#Benchmarking-our-Random-Forest-Model\" data-toc-modified-id=\"Benchmarking-our-Random-Forest-Model-3.0.4\">Benchmarking our Random Forest Model</a></span></li><li><span><a href=\"#Fitting-the-Random-Forest-Model\" data-toc-modified-id=\"Fitting-the-Random-Forest-Model-3.0.5\">Fitting the Random Forest Model</a></span></li><li><span><a href=\"#Logistic-Regression-with-10-fold-cross-validation\" data-toc-modified-id=\"Logistic-Regression-with-10-fold-cross-validation-3.0.6\">Logistic Regression with 10 fold cross validation</a></span></li><li><span><a href=\"#Calculating-Misclassification-rate-on-Test-Data\" data-toc-modified-id=\"Calculating-Misclassification-rate-on-Test-Data-3.0.7\">Calculating Misclassification rate on Test Data</a></span></li><li><span><a href=\"#Evaluating-the-Benchmark-results\" data-toc-modified-id=\"Evaluating-the-Benchmark-results-3.0.8\">Evaluating the Benchmark results</a></span></li><li><span><a href=\"#Plotting-the-features-of-the-constructed-Random-Forest-Model\" data-toc-modified-id=\"Plotting-the-features-of-the-constructed-Random-Forest-Model-3.0.9\">Plotting the features of the constructed Random Forest Model</a></span></li><li><span><a href=\"#Variable-Importance\" data-toc-modified-id=\"Variable-Importance-3.0.10\">Variable Importance</a></span></li><li><span><a href=\"#Adapting-the-data-set-to-further-test-the-stability-of-the-model\" data-toc-modified-id=\"Adapting-the-data-set-to-further-test-the-stability-of-the-model-3.0.11\">Adapting the data set to further test the stability of the model</a></span></li><li><span><a href=\"#Fitting-a-new-Random-Forest-to-the-adapted-Data-Set\" data-toc-modified-id=\"Fitting-a-new-Random-Forest-to-the-adapted-Data-Set-3.0.12\">Fitting a new Random Forest to the adapted Data Set</a></span></li><li><span><a href=\"#Analysis-of-the-newly-Constructed-Random-Forest\" data-toc-modified-id=\"Analysis-of-the-newly-Constructed-Random-Forest-3.0.13\">Analysis of the newly Constructed Random Forest</a></span></li></ul></li></ul></li><li><span><a href=\"#Section-3\" data-toc-modified-id=\"Section-3-4\">Section 3</a></span></li><li><span><a href=\"#Empirical-Application\" data-toc-modified-id=\"Empirical-Application-5\">Empirical Application</a></span><ul class=\"toc-item\"><li><ul class=\"toc-item\"><li><span><a href=\"#Data-Exploration\" data-toc-modified-id=\"Data-Exploration-5.0.1\">Data Exploration</a></span></li><li><span><a href=\"#Checking-for-Missing-Data\" data-toc-modified-id=\"Checking-for-Missing-Data-5.0.2\">Checking for Missing Data</a></span></li><li><span><a href=\"#Now,to-fill-in-the-remaining-age-values-let-us-use-the-'mice'-package-for-Nonparametric-Missing-Value-Imputation-using-Random-Forest\" data-toc-modified-id=\"Now,to-fill-in-the-remaining-age-values-let-us-use-the-'mice'-package-for-Nonparametric-Missing-Value-Imputation-using-Random-Forest-5.0.3\">Now,to fill in the remaining age values let us use the 'mice' package for Nonparametric Missing Value Imputation using Random Forest</a></span></li></ul></li><li><span><a href=\"#Feature-Engineering\" data-toc-modified-id=\"Feature-Engineering-5.1\">Feature Engineering</a></span><ul class=\"toc-item\"><li><span><a href=\"#Fitting-the-Random-Forest-Model\" data-toc-modified-id=\"Fitting-the-Random-Forest-Model-5.1.1\">Fitting the Random Forest Model</a></span></li></ul></li></ul></li><li><span><a href=\"#References\" data-toc-modified-id=\"References-6\">References</a></span></li></ul></div>"
   ]
  },
  {
   "cell_type": "markdown",
   "metadata": {},
   "source": [
    "## Overview"
   ]
  },
  {
   "cell_type": "markdown",
   "metadata": {},
   "source": [
    "\n",
    "**Section 1**  begins with a theoretical arrival at Random Forests,beginning with the Law of Large Numbers.The Decision Tree Algorithm is introduced followed by an introduction to Bagging.Random Feature Selection,which is a key differentiation of Random Forests as suggested by Leo Breiman (2001) over other existing methods is also studied.\n",
    "\n",
    "**In Section 1.2** ,the paper goes into further detail about Variable Importance Measures and the Property of Lack of Overfitting,two unique features of Random Forests.\n",
    "\n",
    "**In Section 1.3**,We look at the associated benefits of using Out of Bag to test the model,\n",
    "and how it compares with sample splitting into train and test samples.We will also look at data sets that are ideal to be fitted to Random Forest Models.\n",
    "\n",
    "**In Section 2**,we benchmark the method against the logistic regression model used in my paper of choice.\n",
    "The paper of my choice,the widely-cited academic paper Gerber et al.’s (2008) ‘Social Pressure\n",
    "and Voter Turnout: Evidence from a large-scale field Experiment’ uses OLS regression alongside\n",
    "Dummy Variables and Fixed Effects to study the effect of different forms of social pressure on voter\n",
    "turnout.We compare the predictive ability of the Random Forest model against the Logistic Regression Model specified in the paper using data simulated based on the specifications of the paper.\n",
    "\n",
    "\n",
    "\n",
    "We apply Random Forest method,compare across methods and graph the parameters of the data set that are returned by the RF model.We will also aritifically alter the data set to test the perfomance of RF models in the presence of outlier,collinear variables and missing information.\n",
    "Following which we plot the data returned by our constructed Random Forest model.\n",
    "\n",
    "**In Section 3** ,I  extend the application of the method to a novel,empirical data set,as\n",
    "a demonstration of it’s predictive power and stability in usage with actual data.\n",
    "\n"
   ]
  },
  {
   "cell_type": "code",
   "execution_count": 1,
   "metadata": {},
   "outputs": [],
   "source": [
    "#Loading essential packages\n",
    "pacman::p_load(maxLik,formatR, MLeval,IRdisplay,reshape2,grf,mltools,missForest,mice,fastDummies,data.table,stats,cvTools,readr,memisc,rpart,magrittr,randomForestSRC,cowplot,ggRandomForests,reshape2,gridExtra,ggthemes,randomForest,permimp,titanic,randomForestExplainer,ISLR,ellipsis,caret,ggplot2,vita,AmesHousing,InformationValue,tidyverse,caret,car,mvtnorm,MASS,tree,rpart,rpart.plot,ipred,caret)\n"
   ]
  },
  {
   "cell_type": "markdown",
   "metadata": {},
   "source": [
    "## Selection of Random Forest Packages in Use : "
   ]
  },
  {
   "cell_type": "markdown",
   "metadata": {},
   "source": [
    "* **RandomForest**\n",
    "The Random Forest package implements the Random Forest Algorithm according to the specifications of Leo Breiman (2001).It enables the construction of both classification and regression Random Forests,and allows for finer specifications in their construction.\n",
    "\n",
    "* **ggRandomForest**\n",
    "ggRandomForest allows the use of the Random Forest model to visualize it's deeper parameters,and allows for a very straighforward visualization of the 'black box' Random Forest Model.\n",
    "\n",
    "\n",
    "\n",
    "* **randomForestSRC**\n",
    "Allows for missing data imputation with MissForest and confidence intervals for variable importance.It also allows for custom split rules different from the default specifications of RandomForest"
   ]
  },
  {
   "cell_type": "markdown",
   "metadata": {},
   "source": [
    "# Section 1"
   ]
  },
  {
   "cell_type": "markdown",
   "metadata": {},
   "source": [
    "#### Law of Large Numbers"
   ]
  },
  {
   "cell_type": "markdown",
   "metadata": {},
   "source": [
    "The law of large numbers is central to estimation and asymptotic theory.When a estimate is generated from a sampling of the Population data,for a large mumber of iterations (n),the estimate tends to the true value of the population as k tends to infinity.\n",
    "\n",
    "$$\\bar{X}_{n} \\stackrel{\\text { a.s. }}{\\longrightarrow} \\mu \\quad \\text { when } n \\rightarrow \\infty$$\n",
    "\n",
    "A 'Strong Law of Natural Numbers' such that the value is (almost certainly) to the expected true population value.\n"
   ]
  },
  {
   "cell_type": "code",
   "execution_count": 2,
   "metadata": {},
   "outputs": [],
   "source": [
    "lawoflargenumbers<-function(n)\n",
    "{\n",
    "NN<- n\n",
    "x <- rnorm(NN,mean=0)\n",
    "seq_sum <- NULL\n",
    "for(i in 1:NN)\n",
    "{\n",
    "    seq_sum[i] <- sum(x[1:i])/i\n",
    "    estimate.df<-as.data.frame(seq_sum)\n",
    "}\n",
    "return(estimate.df)\n",
    "\n",
    "}\n",
    "    \n"
   ]
  },
  {
   "cell_type": "code",
   "execution_count": 3,
   "metadata": {},
   "outputs": [
    {
     "name": "stderr",
     "output_type": "stream",
     "text": [
      "Warning message:\n",
      "\"Removed 6 rows containing missing values (geom_point).\"\n",
      "Warning message:\n",
      "\"Removed 4 rows containing missing values (geom_point).\"\n"
     ]
    },
    {
     "data": {
      "image/png": "[encoded data removed]",
      "text/plain": [
       "plot without title"
      ]
     },
     "metadata": {
      "image/png": {
       "height": 420,
       "width": 420
      },
      "text/plain": {
       "height": 420,
       "width": 420
      }
     },
     "output_type": "display_data"
    },
    {
     "data": {
      "image/png": "[encoded data removed]",
      "text/plain": [
       "plot without title"
      ]
     },
     "metadata": {
      "image/png": {
       "height": 420,
       "width": 420
      },
      "text/plain": {
       "height": 420,
       "width": 420
      }
     },
     "output_type": "display_data"
    }
   ],
   "source": [
    "estimate.df<-lawoflargenumbers(1000)\n",
    "ggplot(estimate.df, aes(y = seq_sum, x = seq(1, length(seq_sum)))) +xlab(\"Number of Trials\")+ylab(\"Predicted Estimate\")+geom_point(color='darkblue'\n",
    "                            )+ ylim(-0.25,0.25)+geom_hline(yintercept=0, linetype=\"dashed\", \n",
    "                color = \"red\", size=0.5)+theme_bw()\n",
    "\n",
    "estimate.df<-lawoflargenumbers(10000)\n",
    "ggplot(estimate.df, aes(y = seq_sum, x = seq(1, length(seq_sum)))) +xlab(\"Number of Trials\")+ylab(\"Predicted Estimate\")+geom_point(color='darkblue'\n",
    "                            )+ ylim(-0.25,0.25)+geom_hline(yintercept=0, linetype=\"dashed\", \n",
    "                color = \"red\", size=0.5)+theme_bw()\n",
    "\n"
   ]
  },
  {
   "cell_type": "markdown",
   "metadata": {},
   "source": [
    "The Law of Random Numbers can be used to better fit models,\n",
    "as the accuracy of the model increases \n",
    "by iterating the process of model fitting.This process also prevents overfitting,as we will see the next section.\n",
    "\n"
   ]
  },
  {
   "cell_type": "markdown",
   "metadata": {},
   "source": [
    "#### Decision Trees"
   ]
  },
  {
   "cell_type": "markdown",
   "metadata": {},
   "source": [
    "Decision tree Algorithm uses a decision tree (as a predictive model) to go from observations about an item (represented in the branches) to conclusions about the item's target value (represented in the leaves).Iterating over the most significant predictors(i.e,the predictors that can best 'split' the data sets,the algorithm creates decision rules that can be represented by a tree like diagram.In the nodes of the decision tree,each decision point is a branch,and the leaves are the predicted values."
   ]
  },
  {
   "cell_type": "markdown",
   "metadata": {},
   "source": [
    "There are two kinds of Decision Trees\n",
    "\n",
    "* Regression Trees\n",
    "* Classification Trees\n",
    "\n",
    "\n",
    "##### At each step, you pick a new split by finding the input and splitpoint  that best partitions the data\n",
    "\n",
    "* In **prediction**, you choose splits to minimize the RSS\n",
    "Each region is split to minimize the RSS. To do so, it takes a top-down greedy approach also called recursive binary splitting. **(For our purposes of comparion we use this method.)**\n",
    "\n",
    "We minimize $${\\sum\\nolimits_{i \\in R_{1}} (y_{i} - c_{1})^2 + \\sum\\nolimits_{i \\in R_{2}} (y_{i} - c_{2})^2}$$\n",
    "\n",
    "\n",
    "* In **classification**, choose splits to maximize node purity (minimize Gini\n",
    "index)\n",
    "\n",
    "We minimize $$ G=\\sum_{k=1}^{K} \\hat{p}_{m k}\\left(1-\\hat{p}_{m k}\\right) $$\n",
    "\n",
    "\n",
    "\n",
    "\n"
   ]
  },
  {
   "cell_type": "code",
   "execution_count": 4,
   "metadata": {},
   "outputs": [
    {
     "data": {
      "image/png": "[encoded data removed]",
      "text/plain": [
       "plot without title"
      ]
     },
     "metadata": {
      "image/png": {
       "height": 420,
       "width": 420
      },
      "text/plain": {
       "height": 420,
       "width": 420
      }
     },
     "output_type": "display_data"
    }
   ],
   "source": [
    "scatter_1 <- ggplot(data=iris, aes(x = Sepal.Width, y = Sepal.Length)) \n",
    "scatter_1<-scatter_1 + geom_point(aes(color=Species, shape=Species)) +\n",
    "  xlab(\"Sepal Width\") +  ylab(\"Sepal Length\") +\n",
    "  ggtitle(\"Sepal Length-Width\")\n",
    "\n",
    "scatter_2 <- ggplot(data=iris, aes(x = Petal.Width, y =Sepal.Length)) \n",
    "scatter_2<-scatter_2 + geom_point(aes(color=Species, shape=Species)) +\n",
    "  xlab(\"Petal Width\") +  ylab(\"Sepal Length\") +\n",
    "  ggtitle(\"Speal Length-Petal Width\")\n",
    "\n",
    "plot_grid(scatter_1,scatter_2,ncol = 1, align = 'v', axis = 'l',labels = \"AUTO\")\n",
    "\n"
   ]
  },
  {
   "cell_type": "markdown",
   "metadata": {},
   "source": [
    "Here we use the other features of the example Iris data set to predict Sepal.Length.\n",
    "We have constructed one **unpruned regression tree.**"
   ]
  },
  {
   "cell_type": "code",
   "execution_count": 5,
   "metadata": {},
   "outputs": [
    {
     "data": {
      "image/png": "[encoded data removed]",
      "text/plain": [
       "Plot with title \"Unpruned Regression Tree\""
      ]
     },
     "metadata": {
      "image/png": {
       "height": 420,
       "width": 420
      },
      "text/plain": {
       "height": 420,
       "width": 420
      }
     },
     "output_type": "display_data"
    }
   ],
   "source": [
    "\n",
    "tree <- rpart(Sepal.Length~ ., data = iris, method = \"anova\", cp = 0.01)\n",
    "rpart.plot(tree, main = \"Unpruned Regression Tree\")\n"
   ]
  },
  {
   "cell_type": "markdown",
   "metadata": {},
   "source": [
    "\n",
    "However the constructed tree is overfitted.The created decision tree has **low bias** and **high variance**.It is highly susceptible to changes in data,will provide very low **Residual Mean Squared Error(RMSE)** for the training data set,and a comparatively **high RMSE** for the test data set.\n",
    "\n",
    "\n",
    "Pruning is a technique in machine learning and search algorithms that reduces the size of decision trees by removing sections of the tree that provide little power to classify instances. Pruning reduces the complexity of the final classifier, and hence improves predictive accuracy by the reduction of overfitting.\n",
    "\n",
    "However,we will look at an alternative technique to reduce overfitting.This method is called Bagging.\n",
    "\n"
   ]
  },
  {
   "cell_type": "markdown",
   "metadata": {},
   "source": [
    "### Bagging"
   ]
  },
  {
   "cell_type": "markdown",
   "metadata": {},
   "source": [
    "To solve the problem of high variance of a single decision tree,use **Bootstrap Aggregating** or **Bagging**. It is a general method for decreasing the bagging variance of a statistical learning method,it is particularly well suited to be used in the context of decision trees.\n",
    "\n",
    "\n",
    "Given a set of independent observations Z1....ZN ,each with variance $σ^2$,\n",
    "the variance of the mean Z of the observations is given by $(σ^2)/n$.\n",
    "In other words,averaging across these observations reduces the variance accordingly.\n",
    "This is a very intuitive way to reduce variance,and increase the consistency of predictive accuracy of a machine learning method.\n",
    "\n",
    "We take many training sets(by bootstrapping or by other sampling methods),build a seperate prediction model using each bootstrapped training set and average the resultant prediction in order to obtain a low-variance predictive model given by\n",
    "\n",
    "$$\\hat{f}_{\\text {avg }}(x)=\\frac{1}{B} \\sum_{b=1}^{B} \\hat{f}^{b}(x)$$\n"
   ]
  },
  {
   "cell_type": "markdown",
   "metadata": {},
   "source": [
    "In bagging we need to remember that trees are **not pruned** .Each tree is very deep,unpruned and has high variance (but low bias). Averaging the trees gives very impressive improvements to accuracy by combining many(hundreds or even thousands) into a single model.\n",
    "\n",
    "In case of **Classification** we take a majority vote,i.e,the class which the most of the bagged trees predict is the the predicted class.\n",
    "\n",
    "$$s_{L}(.)=\\arg \\max _{k}\\left[\\operatorname{card}\\left(l \\mid w_{l}(.)=k\\right)\\right]$$\n",
    "\n",
    "where k is the chosen learner among the bagged learners.\n",
    "\n",
    "![image](https://i.imgur.com/eu95V9N.png)"
   ]
  },
  {
   "cell_type": "code",
   "execution_count": 6,
   "metadata": {},
   "outputs": [
    {
     "data": {
      "text/plain": [
       "\n",
       "Bagging classification trees with 100 bootstrap replications \n",
       "\n",
       "Call: bagging.data.frame(formula = Species ~ ., data = iris, nbagg = 100, \n",
       "    coob = TRUE, control = rpart.control(minsplit = 2, cp = 0))\n",
       "\n",
       "Out-of-bag estimate of misclassification error:  0.0533 \n"
      ]
     },
     "metadata": {},
     "output_type": "display_data"
    },
    {
     "data": {
      "text/html": [
       "0.0533333333333333"
      ],
      "text/latex": [
       "0.0533333333333333"
      ],
      "text/markdown": [
       "0.0533333333333333"
      ],
      "text/plain": [
       "[1] 0.05333333"
      ]
     },
     "metadata": {},
     "output_type": "display_data"
    }
   ],
   "source": [
    "\n",
    "\n",
    "set.seed(123)\n",
    "# train bagged model\n",
    "bagged_model <- bagging(\n",
    "  formula =Species ~ .,\n",
    "  data = iris,\n",
    "  nbagg = 100,  \n",
    "  coob = TRUE,\n",
    "  control = rpart.control(minsplit = 2, cp = 0)\n",
    ")\n",
    "bagged_model\n",
    "bagged_model$err\n",
    "\n",
    "\n"
   ]
  },
  {
   "cell_type": "markdown",
   "metadata": {},
   "source": [
    "\n",
    "Random Forests use **Decision Trees with bootstrap aggregating or bagging,but with a key difference.**\n",
    "The algorithm randomly uses a subset of iterations(p <P) to construct each different Decision Tree.\n",
    "This is called **Feature Selection**\n",
    "Feature Selection improves the performance of Bagged Decision Trees by\n",
    "\n",
    "\n",
    "* Intuitively, reducing p will reduce the correlation between any pair of trees\n",
    "in the ensemble, and hence reduce the variance of the average.\n",
    "\n",
    "* Allows to rank the importance of features.\n",
    "\n",
    "\n",
    "It can be observed that using Random Feature Selection allows us to get consistently better predictions than by using Bootstrap Aggregating or Bagging Decision Trees with all the features at every decision Tree.\n",
    "\n",
    "Random Feature selection increasing the randomness between individual trees.In building Bootstrapped Decision Trees,the most prominent differentiating features are always form the first node at each decision Tree.Features with less differentiating power are given low importance at every tree.This leads to correlation between Trees.However Random Feature Selection allows us to overcome the issue.\n",
    "Some trees are constructed with only the features with low splitting power,and are given an equal vote in deciding the prediction.However on averaging over many random trees constructed in that manner,Random forests result in better predictions.\n",
    "\n"
   ]
  },
  {
   "cell_type": "code",
   "execution_count": 7,
   "metadata": {},
   "outputs": [
    {
     "data": {
      "text/plain": [
       "\n",
       "Call:\n",
       " randomForest(formula = Species ~ ., data = iris) \n",
       "               Type of random forest: classification\n",
       "                     Number of trees: 500\n",
       "No. of variables tried at each split: 2\n",
       "\n",
       "        OOB estimate of  error rate: 4.67%\n",
       "Confusion matrix:\n",
       "           setosa versicolor virginica class.error\n",
       "setosa         50          0         0        0.00\n",
       "versicolor      0         47         3        0.06\n",
       "virginica       0          4        46        0.08"
      ]
     },
     "metadata": {},
     "output_type": "display_data"
    }
   ],
   "source": [
    "\n",
    "\n",
    "library(randomForest)\n",
    "set.seed(123)\n",
    "model <- randomForest(Species~ ., data = iris)\n",
    "model"
   ]
  },
  {
   "cell_type": "markdown",
   "metadata": {},
   "source": [
    "The OOB estimate using Random Forests is lower than that of Bagged Decision Trees.\n",
    "We can compare the drop in OOB error on increasing number of trees in Bagging vs Random Trees as follows.\n",
    "\n",
    "\n",
    "*Visualization Example Data Set - The Boston Housing Data Set. (1978)*  \n",
    "\n",
    "(http://lib.stat.cmu.edu/datasets/boston)"
   ]
  },
  {
   "cell_type": "code",
   "execution_count": 8,
   "metadata": {},
   "outputs": [
    {
     "data": {
      "image/png": "[encoded data removed]",
      "text/plain": [
       "Plot with title \"Random Forests-Bagged Decision Trees + Random Feature Selection\""
      ]
     },
     "metadata": {
      "image/png": {
       "height": 420,
       "width": 420
      },
      "text/plain": {
       "height": 420,
       "width": 420
      }
     },
     "output_type": "display_data"
    },
    {
     "data": {
      "image/png": "[encoded data removed]",
      "text/plain": [
       "Plot with title \"Bagging Decision Trees - All predictors included for all trees\""
      ]
     },
     "metadata": {
      "image/png": {
       "height": 420,
       "width": 420
      },
      "text/plain": {
       "height": 420,
       "width": 420
      }
     },
     "output_type": "display_data"
    }
   ],
   "source": [
    "  #Random Forest with feature selection\n",
    "set.seed(134)\n",
    "model<- randomForest(medv~ ., data =Boston)\n",
    "plot(model,main=\"Random Forests-Bagged Decision Trees + Random Feature Selection\")\n",
    "nreg=ncol(Boston)-1\n",
    "modelNOFS<- randomForest(medv~ ., data =Boston,mtry=nreg)\n",
    "plot(modelNOFS,main=\"Bagging Decision Trees - All predictors included for all trees\")\n",
    "\n",
    "\n"
   ]
  },
  {
   "cell_type": "code",
   "execution_count": 9,
   "metadata": {},
   "outputs": [
    {
     "data": {
      "text/plain": [
       "\n",
       "Call:\n",
       " randomForest(formula = medv ~ ., data = Boston) \n",
       "               Type of random forest: regression\n",
       "                     Number of trees: 500\n",
       "No. of variables tried at each split: 4\n",
       "\n",
       "          Mean of squared residuals: 9.885306\n",
       "                    % Var explained: 88.29"
      ]
     },
     "metadata": {},
     "output_type": "display_data"
    },
    {
     "data": {
      "text/plain": [
       "\n",
       "Call:\n",
       " randomForest(formula = medv ~ ., data = Boston, mtry = nreg) \n",
       "               Type of random forest: regression\n",
       "                     Number of trees: 500\n",
       "No. of variables tried at each split: 13\n",
       "\n",
       "          Mean of squared residuals: 10.42719\n",
       "                    % Var explained: 87.65"
      ]
     },
     "metadata": {},
     "output_type": "display_data"
    }
   ],
   "source": [
    "model #Model with Random Feature Selection ie.Random Forests\n",
    "modelNOFS #Model with no Feature Selection. ie.Bagged Decision Trees\n",
    "\n"
   ]
  },
  {
   "cell_type": "markdown",
   "metadata": {},
   "source": [
    "The Mean of Squared residuals is usually lower for Random forests which use Random feature selection,as opposed to Bagged Decision Trees.\n",
    "\n"
   ]
  },
  {
   "cell_type": "markdown",
   "metadata": {},
   "source": [
    "###  Generalization error estimates\n"
   ]
  },
  {
   "cell_type": "markdown",
   "metadata": {},
   "source": [
    "#### Out of Bag Error Estimate"
   ]
  },
  {
   "cell_type": "markdown",
   "metadata": {},
   "source": [
    "Random Forests,according to Brieman (1999) lends itself organically to using OOB Error as Generalization Error Estimates.Since we already use \n",
    "Bagging to fit a random forest model,.\n",
    "Breiman gives empirical evidence to show that the out-of-bag\n",
    "estimate is 'as accurate as using a test set of the same size as the training set'.\n",
    "Using Out of Bag errors also removes the need of a test Set,and this is a windfall of using Random Forests.\n",
    "If given N rows of training data,the probability of not picking a row is \n",
    "\n",
    "$$\\frac{N-1}{N}$$\n",
    "\n",
    "Using sampling-with-replacement the calculated probability in which we do not pick N rows in random draws is\n",
    "$$\\left(\\frac{N-1}{N}\\right)^{N}$$\n",
    "\n",
    "Applying limits this becomes \n",
    "\n",
    "$$\\lim _{N \\rightarrow \\infty}\\left(1-\\frac{1}{N}\\right)^{N}=e^{-1}=0.368$$\n",
    "\n",
    "\n",
    "\n",
    "Each bootstrap sample involved at least 63% of the population data on avaerage,and the remaining 36.8% of the data\n",
    "can be used to test the fitted model.extract\n",
    "The OOB estimates has been proven to identical to n-fold cross validation estimates (Hastie, Tibshirani, and Friedman\n",
    "2009).Hence the process of fitting the random forest also gives us a convenient test data set without pre-splitting.\n",
    "\n",
    "\n",
    "\n",
    "\n"
   ]
  },
  {
   "cell_type": "markdown",
   "metadata": {},
   "source": [
    "### Variable Importance Measures\n",
    "\n"
   ]
  },
  {
   "cell_type": "markdown",
   "metadata": {},
   "source": [
    "\n",
    "Random forests greedily use all variables at hand to constructiont the model.Unlike linear regression models,\n",
    "we do not have access to a P value or significance test for the variabless in use.However to it's advantage we also \n",
    "do not need the exact construction of the model equation.\n",
    "Random Forests are able to determine which variables are 'significant predictors'by using split rule optimization\n",
    "optimally ranking variables based on their power to seperate observations.\n",
    "\n",
    "There are two ways to analyze the RF selection process,which are \n",
    "* Variable Importance \n",
    "* Minimal Depth\n",
    "\n"
   ]
  },
  {
   "cell_type": "markdown",
   "metadata": {},
   "source": [
    "### 1. Permutation Feature Importance"
   ]
  },
  {
   "cell_type": "markdown",
   "metadata": {},
   "source": [
    "The most popular form of Estimating Feature Importance is using a variation of the CART and Bagging Mechanism. (see Chapter 5 of Breiman et al. (1984))\n",
    "The variable under study is permuted or 'noised'.The Difference \n",
    "in prediction error between the 'original data' with the correctly specified data and the model constructed with the misspecified or 'noised' data is returned as the VIMP value.(Breiman 2001; Liaw and\n",
    "Wiener 2002; Ishwaran 2007; Ishwaran et al. 2008)\n",
    "\n",
    "\n",
    "The higher the VIMP value,the greater the effect of the noising on the variables predictive power.\n",
    "For low values,noising has no impact,and the importance of the variable to the model is no more than noise.\n",
    "For negative values,the noise increases predictive power more than the variable itself.In these latter two cases\n",
    "we can reasonably assume that there is no impact of the variables on the model at hand.\n",
    "\n",
    "\n",
    "**Weaknesses**\n",
    "\n",
    "Permutation importance is efficient and usually is accurate, but Strobl et al show that “permutation importance over-estimates the importance of correlated predictor variables.\" We will observe this later in Section 2."
   ]
  },
  {
   "cell_type": "code",
   "execution_count": 10,
   "metadata": {},
   "outputs": [
    {
     "name": "stderr",
     "output_type": "stream",
     "text": [
      "Warning message in gg_vimp.rfsrc(rfsrc_Boston):\n",
      "\"rfsrc object does not contain VIMP information. Calculating...\"\n"
     ]
    },
    {
     "data": {
      "image/png": "[encoded data removed]",
      "text/plain": [
       "plot without title"
      ]
     },
     "metadata": {
      "image/png": {
       "height": 420,
       "width": 420
      },
      "text/plain": {
       "height": 420,
       "width": 420
      }
     },
     "output_type": "display_data"
    }
   ],
   "source": [
    "rfsrc_Boston <- rfsrc(medv~., data=Boston)\n",
    "plot(gg_vimp(rfsrc_Boston),main=\"Permutation Feature Importance\")"
   ]
  },
  {
   "cell_type": "markdown",
   "metadata": {},
   "source": [
    "In the constructed random forest, lstat and rm have the largest VIMP,and far exceeds the variable.names \n",
    "importance of the remaining variables.This suggests that we can create a powerful,and yet simpler model\n",
    "using only these two variables,at the cost of a slightly higher error rate.\n"
   ]
  },
  {
   "cell_type": "markdown",
   "metadata": {},
   "source": [
    "### 2. Mean Decrease in Impurity (MDI)"
   ]
  },
  {
   "cell_type": "markdown",
   "metadata": {},
   "source": [
    "A secondary method of change in variable imporance is inbuilt into the classic RandomForest package.\n",
    "The criterion to split is called the Gini Criterion,which is also used in constructing the decision Trees.\n",
    "At each split,the variable is used to form a split,following which there is a decrease in the Gini.\n",
    "The summation of all the gini decreases in the forest due to a variable is normalized by the number of variables."
   ]
  },
  {
   "cell_type": "markdown",
   "metadata": {},
   "source": [
    "Breiman and Cutler, suggest that “adding up the gini decreases for each individual variable over all trees in the forest gives a fast variable importance that is often very consistent with the permutation importance measure.” \n",
    "However this method has been historically known to be biased.\n",
    "\n",
    "**Weaknesses**\n",
    "\n",
    "In 2007 Strobl et al pointed out in 'Bias in random forest variable importance measures: Illustrations, sources and a solution' that “the variable importance measures of Breiman's original Random Forest method ... are not reliable in situations where potential predictor variables vary in their scale of measurement or their number of categories.” \n",
    "\n",
    "\n",
    "\n",
    "\n",
    "\n"
   ]
  },
  {
   "cell_type": "code",
   "execution_count": 11,
   "metadata": {},
   "outputs": [
    {
     "data": {
      "image/png": "[encoded data removed]",
      "text/plain": [
       "Plot with title \"x\""
      ]
     },
     "metadata": {
      "image/png": {
       "height": 420,
       "width": 420
      },
      "text/plain": {
       "height": 420,
       "width": 420
      }
     },
     "output_type": "display_data"
    }
   ],
   "source": [
    "\n",
    "varImpPlot(model, sort=TRUE, n.var=min(30, nrow(model$importance)),\n",
    "           type=NULL, class=NULL, scale=TRUE, \n",
    "           main=deparse(substitute(x))) "
   ]
  },
  {
   "cell_type": "markdown",
   "metadata": {},
   "source": [
    "\n",
    "Both these variable importance measures are conditional on having a strong model.Without having constructed a strong model,for example taking into account collinear features,and theoretically justifying the inclusion of features,you cannot accurately estimate variable importance\n"
   ]
  },
  {
   "cell_type": "markdown",
   "metadata": {},
   "source": [
    "### 3. Minimal Depth Measure"
   ]
  },
  {
   "cell_type": "markdown",
   "metadata": {},
   "source": [
    "One method to check the importance of variable is to check the constructed forest.\n",
    "The variables that are used closest to the trunk indicate a higher splitting power.\n",
    "In a tree,the node level are numbered based on the relative distance to the tree.\n",
    "Minimal depth prediction means they split the nodes closes to the trunk.\n",
    "Lower values indicate that they are good at splitting a lot of the data into separate classes.\n",
    "The smaller they minimal depth,the more significant the variables is in sorting observations.\n",
    "\n",
    "This measure mirrors they values provided by the variables importance function,with the maximal minimal depth at the bottom and minimal depth at the top.This can be implemented using they ggForest function,but is computationally intensive as it involves traversing each tree."
   ]
  },
  {
   "cell_type": "markdown",
   "metadata": {},
   "source": [
    "# Section 2"
   ]
  },
  {
   "cell_type": "markdown",
   "metadata": {},
   "source": [
    "### Benchmarking the model with an Empirical Research Paper"
   ]
  },
  {
   "cell_type": "markdown",
   "metadata": {},
   "source": [
    "#### Validating the choice of Empirical Paper for Benchmarking"
   ]
  },
  {
   "cell_type": "markdown",
   "metadata": {},
   "source": [
    "The paper of my choice,the widely-cited academic paper Gerber et al.’s (2008) ‘Social Pressure\n",
    "and Voter Turnout: Evidence from a large-scale field Experiment’ uses Logistic regression alongside\n",
    "Dummy Variables and Fixed Effects to study the effect of different forms of social pressure on voter\n",
    "turnout.\n",
    "\n",
    "The factors that motivate voter turnout has been studied extensively in previous literature.Beginning with Gosnell's 1927 'Getting out the vote - an experiment in the simulation of voting'.Published papers following in the same vein include Powell (1986) 'American Voter turnout in comparative perspective'- which examined  the differences in turnout between developed countries.Geys( 2007) 'Explaining Voter Turnout a review of aggregate level research'tried to draw a connection between the factors which influenced turnout.\n",
    "Currently,there is an increased motivation for research into the potential of machine learning methods with regards to polling data,and a renewed sense of caution about the power of Big Data.\n",
    "\n",
    "The paper 'Social Pressure and Voter Turnout: Evidence from a large scale Field Experiment' provides an interesting empirical data set we can use to apply and benchmark the Random Forest Algorithm.\n",
    "The paper attempts to study 4 forms of Social pressure and it's effect on Voter Turnout.\n",
    "The large scale field experiment involved several hundred thousand registered voters and used a series of mailings to gauge the effects.\n",
    "A significantly higher turnout was observed among those who received mails which promoised to publicize their turnout to their household or neighbors.\n",
    "The findings demonstrate that social pressure can be a significant incentive for political participation.\n",
    "\n",
    "We will attempt to predict the vote,given the initial data set and the selection of treatment for that particular individual."
   ]
  },
  {
   "cell_type": "markdown",
   "metadata": {},
   "source": [
    "#### Data Description (2.1)"
   ]
  },
  {
   "cell_type": "markdown",
   "metadata": {},
   "source": [
    "The experiment involved 180,002 households in Michigan,USA immediately prios to the 2006 US primary elections.\n",
    "\n",
    "The data was divided into 5 groups.The control group consisted of approximately 100,000 households and the 4 treatment groups consisted of 20,000.\n",
    "The treatement group households were divided on the basis of the type of mailers they received. \n",
    "There were four kinds of mailers\n",
    "\n",
    "* **Civic Duty**  -  This was a simple message which said 'Do your civic duty -Vote!'.The purpose of this treatment was to serve as a baseline for the other three.\n",
    "\n",
    "* **Hawthorne** - This was based on the famour Hawthorne Experiment.The mailer included a message which said that voting behavior of the household was being studied.\n",
    "This is mild form of social pressure.\n",
    "\n",
    "* **Self** - This mailer upped the social pressure by showing the election participation track record of every individual of the houshold.It promised to send a similar mailer which was updated after the coming election.\n",
    "\n",
    "* **Neighbours** - This fourth treatment group was the one that incited the most social pressure.This mailer was similar to self but also included the voting records of their immediate neighbors. \n"
   ]
  },
  {
   "cell_type": "markdown",
   "metadata": {},
   "source": [
    "### Data Simulation"
   ]
  },
  {
   "cell_type": "code",
   "execution_count": 65,
   "metadata": {},
   "outputs": [],
   "source": [
    "set.seed(345)\n",
    "\n",
    "n=3000\n",
    "sex <-as.numeric(rbinom(n, 1,.5))\n",
    "g2000<-rbinom(n,1,.5)\n",
    "g2002<-rbinom(n,1,.51)\n",
    "p2000<-rbinom(n,1,.54)\n",
    "p2002<-rbinom(n,1,0.7)+0.5*p2000\n",
    "p2004<-(rbinom(n ,1,.5))^2\n",
    "treatment<- sample(c(\"Control\",\"Civic_Duty\",\"Hawthorne\",\"Neighbors\",\"Self\"),n, replace=TRUE, prob = c(0.2,0.2,0.2,0.2,0.2))\n",
    "hh_size <-sample(c(1,2,3,4,5), n, replace=TRUE, prob = c(0.2,0.4,0.2,0.15,0.05))\n",
    "p2004_mean<-runif(n, min = 0, max = 1)\n",
    "g2004_mean<-runif(n, min = 0, max = 1)\n",
    "age <-sample(c(14:78),n,replace=TRUE)\n",
    "eps <- rnorm(n=n, mean=0, sd=1) \n",
    "\n",
    "\n",
    "main_data <-as.data.frame(cbind(sex,age,g2000,g2002,p2000,p2002,p2004,treatment,hh_size,p2004_mean,g2004_mean))\n",
    "main_data_temp<-main_data\n",
    "main_data<-main_data %>% mutate(value = 1)  %>% spread(treatment, value,  fill = 0 ) \n",
    "main_data <- mutate_all(main_data, function(x) as.numeric(as.character(x)))\n",
    "\n",
    "beta.vec<-c(0.02,-0.4,0.01,0.93,4.5,0.32,2.3,-0.045,-5,-0.32,0.2,0.01,0.17,0.321,0.93,0.17)\n",
    "beta_x_groups=0\n",
    "\n",
    "  \n",
    " for(i in 1:15)\n",
    "    \n",
    "  {    \n",
    "    beta_x_groups<-beta_x_groups+beta.vec[i]*main_data[,i]\n",
    "  }\n",
    "  \n",
    "  \n",
    "  pi_x<-exp(23+beta_x_groups)/(1+exp(23+beta_x_groups))\n",
    "  voted<-c()\n",
    "  voted<- rbinom(n=n, size=1, prob=pi_x)#drawing y with the transformed logit probabilities\n",
    "\n",
    "\n",
    "\n",
    "main_data<-cbind(voted,main_data,treatment)\n",
    "\n",
    "                        \n"
   ]
  },
  {
   "cell_type": "markdown",
   "metadata": {},
   "source": [
    "\n",
    "\n",
    "\n",
    "\n",
    "In our approach to Data Simulation,we use the same coefficients estimated in the paper for ther treatment effects.We also use the means\n",
    "and distributions given in the paper to simulate our other predictors.\n",
    "Since our outcome variable is binary we will be simulating the dependent outcome 'voted' according to the specification of a logistic regression model.\n"
   ]
  },
  {
   "cell_type": "code",
   "execution_count": 66,
   "metadata": {},
   "outputs": [
    {
     "data": {
      "text/html": [
       "<table>\n",
       "<caption>A data.frame: 6 × 17</caption>\n",
       "<thead>\n",
       "\t<tr><th></th><th scope=col>voted</th><th scope=col>sex</th><th scope=col>age</th><th scope=col>g2000</th><th scope=col>g2002</th><th scope=col>p2000</th><th scope=col>p2002</th><th scope=col>p2004</th><th scope=col>hh_size</th><th scope=col>p2004_mean</th><th scope=col>g2004_mean</th><th scope=col>Civic_Duty</th><th scope=col>Control</th><th scope=col>Hawthorne</th><th scope=col>Neighbors</th><th scope=col>Self</th><th scope=col>treatment</th></tr>\n",
       "\t<tr><th></th><th scope=col>&lt;int&gt;</th><th scope=col>&lt;dbl&gt;</th><th scope=col>&lt;dbl&gt;</th><th scope=col>&lt;dbl&gt;</th><th scope=col>&lt;dbl&gt;</th><th scope=col>&lt;dbl&gt;</th><th scope=col>&lt;dbl&gt;</th><th scope=col>&lt;dbl&gt;</th><th scope=col>&lt;dbl&gt;</th><th scope=col>&lt;dbl&gt;</th><th scope=col>&lt;dbl&gt;</th><th scope=col>&lt;dbl&gt;</th><th scope=col>&lt;dbl&gt;</th><th scope=col>&lt;dbl&gt;</th><th scope=col>&lt;dbl&gt;</th><th scope=col>&lt;dbl&gt;</th><th scope=col>&lt;chr&gt;</th></tr>\n",
       "</thead>\n",
       "<tbody>\n",
       "\t<tr><th scope=row>1</th><td>1</td><td>0</td><td>41</td><td>1</td><td>0</td><td>0</td><td>0.0</td><td>0</td><td>3</td><td>0.3061236</td><td>0.6001861</td><td>1</td><td>0</td><td>0</td><td>0</td><td>0</td><td>Civic_Duty</td></tr>\n",
       "\t<tr><th scope=row>2</th><td>1</td><td>0</td><td>34</td><td>0</td><td>0</td><td>1</td><td>1.5</td><td>0</td><td>4</td><td>0.4147745</td><td>0.8255434</td><td>0</td><td>0</td><td>0</td><td>1</td><td>0</td><td>Neighbors </td></tr>\n",
       "\t<tr><th scope=row>3</th><td>0</td><td>0</td><td>77</td><td>0</td><td>1</td><td>1</td><td>1.5</td><td>1</td><td>4</td><td>0.4330746</td><td>0.5347610</td><td>0</td><td>0</td><td>0</td><td>1</td><td>0</td><td>Neighbors </td></tr>\n",
       "\t<tr><th scope=row>4</th><td>1</td><td>1</td><td>31</td><td>1</td><td>0</td><td>1</td><td>1.5</td><td>0</td><td>3</td><td>0.2615412</td><td>0.1427704</td><td>1</td><td>0</td><td>0</td><td>0</td><td>0</td><td>Civic_Duty</td></tr>\n",
       "\t<tr><th scope=row>5</th><td>1</td><td>0</td><td>43</td><td>0</td><td>1</td><td>0</td><td>1.0</td><td>0</td><td>1</td><td>0.5763201</td><td>0.7064430</td><td>0</td><td>1</td><td>0</td><td>0</td><td>0</td><td>Control   </td></tr>\n",
       "\t<tr><th scope=row>6</th><td>1</td><td>1</td><td>48</td><td>0</td><td>0</td><td>1</td><td>0.5</td><td>1</td><td>4</td><td>0.2111344</td><td>0.5306813</td><td>0</td><td>0</td><td>0</td><td>0</td><td>1</td><td>Self      </td></tr>\n",
       "</tbody>\n",
       "</table>\n"
      ],
      "text/latex": [
       "A data.frame: 6 × 17\n",
       "\\begin{tabular}{r|lllllllllllllllll}\n",
       "  & voted & sex & age & g2000 & g2002 & p2000 & p2002 & p2004 & hh\\_size & p2004\\_mean & g2004\\_mean & Civic\\_Duty & Control & Hawthorne & Neighbors & Self & treatment\\\\\n",
       "  & <int> & <dbl> & <dbl> & <dbl> & <dbl> & <dbl> & <dbl> & <dbl> & <dbl> & <dbl> & <dbl> & <dbl> & <dbl> & <dbl> & <dbl> & <dbl> & <chr>\\\\\n",
       "\\hline\n",
       "\t1 & 1 & 0 & 41 & 1 & 0 & 0 & 0.0 & 0 & 3 & 0.3061236 & 0.6001861 & 1 & 0 & 0 & 0 & 0 & Civic\\_Duty\\\\\n",
       "\t2 & 1 & 0 & 34 & 0 & 0 & 1 & 1.5 & 0 & 4 & 0.4147745 & 0.8255434 & 0 & 0 & 0 & 1 & 0 & Neighbors \\\\\n",
       "\t3 & 0 & 0 & 77 & 0 & 1 & 1 & 1.5 & 1 & 4 & 0.4330746 & 0.5347610 & 0 & 0 & 0 & 1 & 0 & Neighbors \\\\\n",
       "\t4 & 1 & 1 & 31 & 1 & 0 & 1 & 1.5 & 0 & 3 & 0.2615412 & 0.1427704 & 1 & 0 & 0 & 0 & 0 & Civic\\_Duty\\\\\n",
       "\t5 & 1 & 0 & 43 & 0 & 1 & 0 & 1.0 & 0 & 1 & 0.5763201 & 0.7064430 & 0 & 1 & 0 & 0 & 0 & Control   \\\\\n",
       "\t6 & 1 & 1 & 48 & 0 & 0 & 1 & 0.5 & 1 & 4 & 0.2111344 & 0.5306813 & 0 & 0 & 0 & 0 & 1 & Self      \\\\\n",
       "\\end{tabular}\n"
      ],
      "text/markdown": [
       "\n",
       "A data.frame: 6 × 17\n",
       "\n",
       "| <!--/--> | voted &lt;int&gt; | sex &lt;dbl&gt; | age &lt;dbl&gt; | g2000 &lt;dbl&gt; | g2002 &lt;dbl&gt; | p2000 &lt;dbl&gt; | p2002 &lt;dbl&gt; | p2004 &lt;dbl&gt; | hh_size &lt;dbl&gt; | p2004_mean &lt;dbl&gt; | g2004_mean &lt;dbl&gt; | Civic_Duty &lt;dbl&gt; | Control &lt;dbl&gt; | Hawthorne &lt;dbl&gt; | Neighbors &lt;dbl&gt; | Self &lt;dbl&gt; | treatment &lt;chr&gt; |\n",
       "|---|---|---|---|---|---|---|---|---|---|---|---|---|---|---|---|---|---|\n",
       "| 1 | 1 | 0 | 41 | 1 | 0 | 0 | 0.0 | 0 | 3 | 0.3061236 | 0.6001861 | 1 | 0 | 0 | 0 | 0 | Civic_Duty |\n",
       "| 2 | 1 | 0 | 34 | 0 | 0 | 1 | 1.5 | 0 | 4 | 0.4147745 | 0.8255434 | 0 | 0 | 0 | 1 | 0 | Neighbors  |\n",
       "| 3 | 0 | 0 | 77 | 0 | 1 | 1 | 1.5 | 1 | 4 | 0.4330746 | 0.5347610 | 0 | 0 | 0 | 1 | 0 | Neighbors  |\n",
       "| 4 | 1 | 1 | 31 | 1 | 0 | 1 | 1.5 | 0 | 3 | 0.2615412 | 0.1427704 | 1 | 0 | 0 | 0 | 0 | Civic_Duty |\n",
       "| 5 | 1 | 0 | 43 | 0 | 1 | 0 | 1.0 | 0 | 1 | 0.5763201 | 0.7064430 | 0 | 1 | 0 | 0 | 0 | Control    |\n",
       "| 6 | 1 | 1 | 48 | 0 | 0 | 1 | 0.5 | 1 | 4 | 0.2111344 | 0.5306813 | 0 | 0 | 0 | 0 | 1 | Self       |\n",
       "\n"
      ],
      "text/plain": [
       "  voted sex age g2000 g2002 p2000 p2002 p2004 hh_size p2004_mean g2004_mean\n",
       "1 1     0   41  1     0     0     0.0   0     3       0.3061236  0.6001861 \n",
       "2 1     0   34  0     0     1     1.5   0     4       0.4147745  0.8255434 \n",
       "3 0     0   77  0     1     1     1.5   1     4       0.4330746  0.5347610 \n",
       "4 1     1   31  1     0     1     1.5   0     3       0.2615412  0.1427704 \n",
       "5 1     0   43  0     1     0     1.0   0     1       0.5763201  0.7064430 \n",
       "6 1     1   48  0     0     1     0.5   1     4       0.2111344  0.5306813 \n",
       "  Civic_Duty Control Hawthorne Neighbors Self treatment \n",
       "1 1          0       0         0         0    Civic_Duty\n",
       "2 0          0       0         1         0    Neighbors \n",
       "3 0          0       0         1         0    Neighbors \n",
       "4 1          0       0         0         0    Civic_Duty\n",
       "5 0          1       0         0         0    Control   \n",
       "6 0          0       0         0         1    Self      "
      ]
     },
     "metadata": {},
     "output_type": "display_data"
    }
   ],
   "source": [
    "\n",
    "head(main_data)"
   ]
  },
  {
   "cell_type": "markdown",
   "metadata": {},
   "source": [
    "#### Variable Description"
   ]
  },
  {
   "cell_type": "markdown",
   "metadata": {},
   "source": [
    "\n",
    "\n",
    "We will list down the variables important to our study.\n",
    "\n",
    "* **Voted** - It takes the value of 'yes', if an individual has voted in the 2006 primary election and zero otherwise.\n",
    "* **Sex** - Sex indicator.\n",
    "* **p2000,p20002,p2004,g2000,g2002,g2004** - These character variables take the values of yes or no if the individual had voted in the primary (p) or general(g) election of the year stated in the variable.\n",
    "* **treatment** - The treatment group the household was assigned into. (Refer Section 2.1)\n",
    "* **year** - The individuals's year of birth\n",
    "* **hh_size** - The size of the household an individual lives in.\n",
    "\n"
   ]
  },
  {
   "cell_type": "markdown",
   "metadata": {},
   "source": [
    "#### Checking for Homogenity of Treatment Groups.\n"
   ]
  },
  {
   "cell_type": "code",
   "execution_count": 67,
   "metadata": {},
   "outputs": [
    {
     "data": {
      "text/html": [
       "<table>\n",
       "<caption>A data.frame: 5 × 11</caption>\n",
       "<thead>\n",
       "\t<tr><th scope=col>Group.1</th><th scope=col>sex</th><th scope=col>age</th><th scope=col>g2000</th><th scope=col>g2002</th><th scope=col>p2000</th><th scope=col>p2002</th><th scope=col>p2004</th><th scope=col>hh_size</th><th scope=col>p2004_mean</th><th scope=col>g2004_mean</th></tr>\n",
       "\t<tr><th scope=col>&lt;chr&gt;</th><th scope=col>&lt;dbl&gt;</th><th scope=col>&lt;dbl&gt;</th><th scope=col>&lt;dbl&gt;</th><th scope=col>&lt;dbl&gt;</th><th scope=col>&lt;dbl&gt;</th><th scope=col>&lt;dbl&gt;</th><th scope=col>&lt;dbl&gt;</th><th scope=col>&lt;dbl&gt;</th><th scope=col>&lt;dbl&gt;</th><th scope=col>&lt;dbl&gt;</th></tr>\n",
       "</thead>\n",
       "<tbody>\n",
       "\t<tr><td>Civic_Duty</td><td>0.4784053</td><td>46.40864</td><td>0.5000000</td><td>0.5348837</td><td>0.5481728</td><td>0.9784053</td><td>0.4883721</td><td>2.401993</td><td>0.4962725</td><td>0.4961475</td></tr>\n",
       "\t<tr><td>Control   </td><td>0.4933993</td><td>45.93894</td><td>0.4884488</td><td>0.5000000</td><td>0.5660066</td><td>0.9958746</td><td>0.4983498</td><td>2.440594</td><td>0.4850565</td><td>0.4977083</td></tr>\n",
       "\t<tr><td>Hawthorne </td><td>0.4975369</td><td>46.97044</td><td>0.5205255</td><td>0.5041051</td><td>0.5435140</td><td>0.9696223</td><td>0.4614122</td><td>2.461412</td><td>0.5252065</td><td>0.4850007</td></tr>\n",
       "\t<tr><td>Neighbors </td><td>0.4937833</td><td>46.79929</td><td>0.5168739</td><td>0.4866785</td><td>0.5488455</td><td>1.0097691</td><td>0.5026643</td><td>2.476021</td><td>0.5294337</td><td>0.5203146</td></tr>\n",
       "\t<tr><td>Self      </td><td>0.5129032</td><td>46.10000</td><td>0.5258065</td><td>0.4935484</td><td>0.5112903</td><td>0.9362903</td><td>0.4854839</td><td>2.440323</td><td>0.5109856</td><td>0.5018837</td></tr>\n",
       "</tbody>\n",
       "</table>\n"
      ],
      "text/latex": [
       "A data.frame: 5 × 11\n",
       "\\begin{tabular}{lllllllllll}\n",
       " Group.1 & sex & age & g2000 & g2002 & p2000 & p2002 & p2004 & hh\\_size & p2004\\_mean & g2004\\_mean\\\\\n",
       " <chr> & <dbl> & <dbl> & <dbl> & <dbl> & <dbl> & <dbl> & <dbl> & <dbl> & <dbl> & <dbl>\\\\\n",
       "\\hline\n",
       "\t Civic\\_Duty & 0.4784053 & 46.40864 & 0.5000000 & 0.5348837 & 0.5481728 & 0.9784053 & 0.4883721 & 2.401993 & 0.4962725 & 0.4961475\\\\\n",
       "\t Control    & 0.4933993 & 45.93894 & 0.4884488 & 0.5000000 & 0.5660066 & 0.9958746 & 0.4983498 & 2.440594 & 0.4850565 & 0.4977083\\\\\n",
       "\t Hawthorne  & 0.4975369 & 46.97044 & 0.5205255 & 0.5041051 & 0.5435140 & 0.9696223 & 0.4614122 & 2.461412 & 0.5252065 & 0.4850007\\\\\n",
       "\t Neighbors  & 0.4937833 & 46.79929 & 0.5168739 & 0.4866785 & 0.5488455 & 1.0097691 & 0.5026643 & 2.476021 & 0.5294337 & 0.5203146\\\\\n",
       "\t Self       & 0.5129032 & 46.10000 & 0.5258065 & 0.4935484 & 0.5112903 & 0.9362903 & 0.4854839 & 2.440323 & 0.5109856 & 0.5018837\\\\\n",
       "\\end{tabular}\n"
      ],
      "text/markdown": [
       "\n",
       "A data.frame: 5 × 11\n",
       "\n",
       "| Group.1 &lt;chr&gt; | sex &lt;dbl&gt; | age &lt;dbl&gt; | g2000 &lt;dbl&gt; | g2002 &lt;dbl&gt; | p2000 &lt;dbl&gt; | p2002 &lt;dbl&gt; | p2004 &lt;dbl&gt; | hh_size &lt;dbl&gt; | p2004_mean &lt;dbl&gt; | g2004_mean &lt;dbl&gt; |\n",
       "|---|---|---|---|---|---|---|---|---|---|---|\n",
       "| Civic_Duty | 0.4784053 | 46.40864 | 0.5000000 | 0.5348837 | 0.5481728 | 0.9784053 | 0.4883721 | 2.401993 | 0.4962725 | 0.4961475 |\n",
       "| Control    | 0.4933993 | 45.93894 | 0.4884488 | 0.5000000 | 0.5660066 | 0.9958746 | 0.4983498 | 2.440594 | 0.4850565 | 0.4977083 |\n",
       "| Hawthorne  | 0.4975369 | 46.97044 | 0.5205255 | 0.5041051 | 0.5435140 | 0.9696223 | 0.4614122 | 2.461412 | 0.5252065 | 0.4850007 |\n",
       "| Neighbors  | 0.4937833 | 46.79929 | 0.5168739 | 0.4866785 | 0.5488455 | 1.0097691 | 0.5026643 | 2.476021 | 0.5294337 | 0.5203146 |\n",
       "| Self       | 0.5129032 | 46.10000 | 0.5258065 | 0.4935484 | 0.5112903 | 0.9362903 | 0.4854839 | 2.440323 | 0.5109856 | 0.5018837 |\n",
       "\n"
      ],
      "text/plain": [
       "  Group.1    sex       age      g2000     g2002     p2000     p2002    \n",
       "1 Civic_Duty 0.4784053 46.40864 0.5000000 0.5348837 0.5481728 0.9784053\n",
       "2 Control    0.4933993 45.93894 0.4884488 0.5000000 0.5660066 0.9958746\n",
       "3 Hawthorne  0.4975369 46.97044 0.5205255 0.5041051 0.5435140 0.9696223\n",
       "4 Neighbors  0.4937833 46.79929 0.5168739 0.4866785 0.5488455 1.0097691\n",
       "5 Self       0.5129032 46.10000 0.5258065 0.4935484 0.5112903 0.9362903\n",
       "  p2004     hh_size  p2004_mean g2004_mean\n",
       "1 0.4883721 2.401993 0.4962725  0.4961475 \n",
       "2 0.4983498 2.440594 0.4850565  0.4977083 \n",
       "3 0.4614122 2.461412 0.5252065  0.4850007 \n",
       "4 0.5026643 2.476021 0.5294337  0.5203146 \n",
       "5 0.4854839 2.440323 0.5109856  0.5018837 "
      ]
     },
     "metadata": {},
     "output_type": "display_data"
    }
   ],
   "source": [
    "\n",
    "main_data_t<- subset(main_data, select=-c(Civic_Duty,Control,Hawthorne,Neighbors,Self))\n",
    "aggregate(main_data_t[, 2:11], list(main_data_t$treatment), mean)\n"
   ]
  },
  {
   "cell_type": "markdown",
   "metadata": {},
   "source": [
    "The treatment group is comparable across the board,and there is no obvious isndication of heterogenity in treatment\n",
    "groups."
   ]
  },
  {
   "cell_type": "markdown",
   "metadata": {},
   "source": [
    "### Exploratory Data Analysis\n"
   ]
  },
  {
   "cell_type": "markdown",
   "metadata": {},
   "source": [
    "Firstly,We will also convert the necessary variables into factor variables."
   ]
  },
  {
   "cell_type": "code",
   "execution_count": 68,
   "metadata": {},
   "outputs": [],
   "source": [
    "\n",
    "cols <- c(\"sex\",\"voted\", \"g2000\", \"g2002\",\"p2000\", \"p2002\", \"p2004\",\"Civic_Duty\",\"Control\",\"Hawthorne\",\"Neighbors\",\n",
    "          \"Self\",\"treatment\")\n",
    "main_data[cols] <- lapply(main_data[cols], factor)\n",
    "\n"
   ]
  },
  {
   "cell_type": "markdown",
   "metadata": {},
   "source": [
    "Summarizing the data -"
   ]
  },
  {
   "cell_type": "code",
   "execution_count": 69,
   "metadata": {},
   "outputs": [
    {
     "data": {
      "text/plain": [
       " voted    sex           age        g2000    g2002    p2000    p2002     \n",
       " 0: 782   0:1514   Min.   :14.00   0:1469   0:1488   0:1370   0  : 427  \n",
       " 1:2218   1:1486   1st Qu.:30.00   1:1531   1:1512   1:1630   0.5: 456  \n",
       "                   Median :47.00                              1  : 943  \n",
       "                   Mean   :46.44                              1.5:1174  \n",
       "                   3rd Qu.:63.00                                        \n",
       "                   Max.   :78.00                                        \n",
       " p2004       hh_size        p2004_mean          g2004_mean        Civic_Duty\n",
       " 0:1539   Min.   :1.000   Min.   :0.0002783   Min.   :0.0007469   0:2398    \n",
       " 1:1461   1st Qu.:2.000   1st Qu.:0.2600944   1st Qu.:0.2624900   1: 602    \n",
       "          Median :2.000   Median :0.5212220   Median :0.4983993             \n",
       "          Mean   :2.444   Mean   :0.5091444   Mean   :0.4999208             \n",
       "          3rd Qu.:3.000   3rd Qu.:0.7627173   3rd Qu.:0.7459239             \n",
       "          Max.   :5.000   Max.   :0.9999507   Max.   :0.9999931             \n",
       " Control  Hawthorne Neighbors Self          treatment  \n",
       " 0:2394   0:2391    0:2437    0:2380   Civic_Duty:602  \n",
       " 1: 606   1: 609    1: 563    1: 620   Control   :606  \n",
       "                                       Hawthorne :609  \n",
       "                                       Neighbors :563  \n",
       "                                       Self      :620  \n",
       "                                                       "
      ]
     },
     "metadata": {},
     "output_type": "display_data"
    }
   ],
   "source": [
    "\n",
    "summary(main_data)\n"
   ]
  },
  {
   "cell_type": "markdown",
   "metadata": {},
   "source": [
    "\n",
    "### Benchmarking our Random Forest Model"
   ]
  },
  {
   "cell_type": "markdown",
   "metadata": {},
   "source": [
    "We will benchmark our Random Forest model against the Logistic Regression used in the paper.\n",
    "The paper concerns itself with causal inference.However,to test our Model in an empirical setting,\n",
    "we will convert the causal inference problem into a prediction problem.\n",
    "Splitting our data into training and test,we will cross validate to find the best fit logistic regression and Random Forest model respectively.\n",
    "Following which we will compare the perfomance of random forests with the fitted logistic regression model.\n"
   ]
  },
  {
   "cell_type": "markdown",
   "metadata": {},
   "source": [
    "Our *objective* is to compare the accuracy of the logistic linear regression model versus the Random Forest model at predicting whether the individual will or will not vote in the 2006 primary elections.\n"
   ]
  },
  {
   "cell_type": "markdown",
   "metadata": {},
   "source": [
    "Splitting our data into train and test -"
   ]
  },
  {
   "cell_type": "code",
   "execution_count": 70,
   "metadata": {},
   "outputs": [
    {
     "data": {
      "text/html": [
       "<table>\n",
       "<caption>A data.frame: 6 × 17</caption>\n",
       "<thead>\n",
       "\t<tr><th></th><th scope=col>voted</th><th scope=col>sex</th><th scope=col>age</th><th scope=col>g2000</th><th scope=col>g2002</th><th scope=col>p2000</th><th scope=col>p2002</th><th scope=col>p2004</th><th scope=col>hh_size</th><th scope=col>p2004_mean</th><th scope=col>g2004_mean</th><th scope=col>Civic_Duty</th><th scope=col>Control</th><th scope=col>Hawthorne</th><th scope=col>Neighbors</th><th scope=col>Self</th><th scope=col>treatment</th></tr>\n",
       "\t<tr><th></th><th scope=col>&lt;fct&gt;</th><th scope=col>&lt;fct&gt;</th><th scope=col>&lt;dbl&gt;</th><th scope=col>&lt;fct&gt;</th><th scope=col>&lt;fct&gt;</th><th scope=col>&lt;fct&gt;</th><th scope=col>&lt;fct&gt;</th><th scope=col>&lt;fct&gt;</th><th scope=col>&lt;dbl&gt;</th><th scope=col>&lt;dbl&gt;</th><th scope=col>&lt;dbl&gt;</th><th scope=col>&lt;fct&gt;</th><th scope=col>&lt;fct&gt;</th><th scope=col>&lt;fct&gt;</th><th scope=col>&lt;fct&gt;</th><th scope=col>&lt;fct&gt;</th><th scope=col>&lt;fct&gt;</th></tr>\n",
       "</thead>\n",
       "<tbody>\n",
       "\t<tr><th scope=row>2463</th><td>1</td><td>0</td><td>19</td><td>0</td><td>1</td><td>1</td><td>0.5</td><td>0</td><td>4</td><td>0.432052211</td><td>0.3129655</td><td>0</td><td>0</td><td>0</td><td>1</td><td>0</td><td>Neighbors </td></tr>\n",
       "\t<tr><th scope=row>2511</th><td>0</td><td>1</td><td>65</td><td>1</td><td>0</td><td>0</td><td>1  </td><td>0</td><td>2</td><td>0.001077822</td><td>0.1062355</td><td>1</td><td>0</td><td>0</td><td>0</td><td>0</td><td>Civic_Duty</td></tr>\n",
       "\t<tr><th scope=row>2227</th><td>1</td><td>1</td><td>41</td><td>0</td><td>1</td><td>0</td><td>1  </td><td>0</td><td>1</td><td>0.324485720</td><td>0.4261926</td><td>0</td><td>1</td><td>0</td><td>0</td><td>0</td><td>Control   </td></tr>\n",
       "\t<tr><th scope=row>526</th><td>1</td><td>1</td><td>42</td><td>0</td><td>1</td><td>1</td><td>0.5</td><td>0</td><td>1</td><td>0.965794070</td><td>0.6148755</td><td>0</td><td>0</td><td>1</td><td>0</td><td>0</td><td>Hawthorne </td></tr>\n",
       "\t<tr><th scope=row>195</th><td>1</td><td>0</td><td>25</td><td>0</td><td>0</td><td>1</td><td>0.5</td><td>1</td><td>3</td><td>0.374225640</td><td>0.6960235</td><td>1</td><td>0</td><td>0</td><td>0</td><td>0</td><td>Civic_Duty</td></tr>\n",
       "\t<tr><th scope=row>2986</th><td>1</td><td>0</td><td>34</td><td>0</td><td>0</td><td>1</td><td>0.5</td><td>1</td><td>2</td><td>0.304402203</td><td>0.6878248</td><td>1</td><td>0</td><td>0</td><td>0</td><td>0</td><td>Civic_Duty</td></tr>\n",
       "</tbody>\n",
       "</table>\n"
      ],
      "text/latex": [
       "A data.frame: 6 × 17\n",
       "\\begin{tabular}{r|lllllllllllllllll}\n",
       "  & voted & sex & age & g2000 & g2002 & p2000 & p2002 & p2004 & hh\\_size & p2004\\_mean & g2004\\_mean & Civic\\_Duty & Control & Hawthorne & Neighbors & Self & treatment\\\\\n",
       "  & <fct> & <fct> & <dbl> & <fct> & <fct> & <fct> & <fct> & <fct> & <dbl> & <dbl> & <dbl> & <fct> & <fct> & <fct> & <fct> & <fct> & <fct>\\\\\n",
       "\\hline\n",
       "\t2463 & 1 & 0 & 19 & 0 & 1 & 1 & 0.5 & 0 & 4 & 0.432052211 & 0.3129655 & 0 & 0 & 0 & 1 & 0 & Neighbors \\\\\n",
       "\t2511 & 0 & 1 & 65 & 1 & 0 & 0 & 1   & 0 & 2 & 0.001077822 & 0.1062355 & 1 & 0 & 0 & 0 & 0 & Civic\\_Duty\\\\\n",
       "\t2227 & 1 & 1 & 41 & 0 & 1 & 0 & 1   & 0 & 1 & 0.324485720 & 0.4261926 & 0 & 1 & 0 & 0 & 0 & Control   \\\\\n",
       "\t526 & 1 & 1 & 42 & 0 & 1 & 1 & 0.5 & 0 & 1 & 0.965794070 & 0.6148755 & 0 & 0 & 1 & 0 & 0 & Hawthorne \\\\\n",
       "\t195 & 1 & 0 & 25 & 0 & 0 & 1 & 0.5 & 1 & 3 & 0.374225640 & 0.6960235 & 1 & 0 & 0 & 0 & 0 & Civic\\_Duty\\\\\n",
       "\t2986 & 1 & 0 & 34 & 0 & 0 & 1 & 0.5 & 1 & 2 & 0.304402203 & 0.6878248 & 1 & 0 & 0 & 0 & 0 & Civic\\_Duty\\\\\n",
       "\\end{tabular}\n"
      ],
      "text/markdown": [
       "\n",
       "A data.frame: 6 × 17\n",
       "\n",
       "| <!--/--> | voted &lt;fct&gt; | sex &lt;fct&gt; | age &lt;dbl&gt; | g2000 &lt;fct&gt; | g2002 &lt;fct&gt; | p2000 &lt;fct&gt; | p2002 &lt;fct&gt; | p2004 &lt;fct&gt; | hh_size &lt;dbl&gt; | p2004_mean &lt;dbl&gt; | g2004_mean &lt;dbl&gt; | Civic_Duty &lt;fct&gt; | Control &lt;fct&gt; | Hawthorne &lt;fct&gt; | Neighbors &lt;fct&gt; | Self &lt;fct&gt; | treatment &lt;fct&gt; |\n",
       "|---|---|---|---|---|---|---|---|---|---|---|---|---|---|---|---|---|---|\n",
       "| 2463 | 1 | 0 | 19 | 0 | 1 | 1 | 0.5 | 0 | 4 | 0.432052211 | 0.3129655 | 0 | 0 | 0 | 1 | 0 | Neighbors  |\n",
       "| 2511 | 0 | 1 | 65 | 1 | 0 | 0 | 1   | 0 | 2 | 0.001077822 | 0.1062355 | 1 | 0 | 0 | 0 | 0 | Civic_Duty |\n",
       "| 2227 | 1 | 1 | 41 | 0 | 1 | 0 | 1   | 0 | 1 | 0.324485720 | 0.4261926 | 0 | 1 | 0 | 0 | 0 | Control    |\n",
       "| 526 | 1 | 1 | 42 | 0 | 1 | 1 | 0.5 | 0 | 1 | 0.965794070 | 0.6148755 | 0 | 0 | 1 | 0 | 0 | Hawthorne  |\n",
       "| 195 | 1 | 0 | 25 | 0 | 0 | 1 | 0.5 | 1 | 3 | 0.374225640 | 0.6960235 | 1 | 0 | 0 | 0 | 0 | Civic_Duty |\n",
       "| 2986 | 1 | 0 | 34 | 0 | 0 | 1 | 0.5 | 1 | 2 | 0.304402203 | 0.6878248 | 1 | 0 | 0 | 0 | 0 | Civic_Duty |\n",
       "\n"
      ],
      "text/plain": [
       "     voted sex age g2000 g2002 p2000 p2002 p2004 hh_size p2004_mean  g2004_mean\n",
       "2463 1     0   19  0     1     1     0.5   0     4       0.432052211 0.3129655 \n",
       "2511 0     1   65  1     0     0     1     0     2       0.001077822 0.1062355 \n",
       "2227 1     1   41  0     1     0     1     0     1       0.324485720 0.4261926 \n",
       "526  1     1   42  0     1     1     0.5   0     1       0.965794070 0.6148755 \n",
       "195  1     0   25  0     0     1     0.5   1     3       0.374225640 0.6960235 \n",
       "2986 1     0   34  0     0     1     0.5   1     2       0.304402203 0.6878248 \n",
       "     Civic_Duty Control Hawthorne Neighbors Self treatment \n",
       "2463 0          0       0         1         0    Neighbors \n",
       "2511 1          0       0         0         0    Civic_Duty\n",
       "2227 0          1       0         0         0    Control   \n",
       "526  0          0       1         0         0    Hawthorne \n",
       "195  1          0       0         0         0    Civic_Duty\n",
       "2986 1          0       0         0         0    Civic_Duty"
      ]
     },
     "metadata": {},
     "output_type": "display_data"
    },
    {
     "data": {
      "text/html": [
       "<style>\n",
       ".list-inline {list-style: none; margin:0; padding: 0}\n",
       ".list-inline>li {display: inline-block}\n",
       ".list-inline>li:not(:last-child)::after {content: \"\\00b7\"; padding: 0 .5ex}\n",
       "</style>\n",
       "<ol class=list-inline><li>2100</li><li>17</li></ol>\n"
      ],
      "text/latex": [
       "\\begin{enumerate*}\n",
       "\\item 2100\n",
       "\\item 17\n",
       "\\end{enumerate*}\n"
      ],
      "text/markdown": [
       "1. 2100\n",
       "2. 17\n",
       "\n",
       "\n"
      ],
      "text/plain": [
       "[1] 2100   17"
      ]
     },
     "metadata": {},
     "output_type": "display_data"
    },
    {
     "name": "stdout",
     "output_type": "stream",
     "text": [
      "'data.frame':\t2100 obs. of  17 variables:\n",
      " $ voted     : Factor w/ 2 levels \"0\",\"1\": 2 1 2 2 2 2 2 2 2 2 ...\n",
      " $ sex       : Factor w/ 2 levels \"0\",\"1\": 1 2 2 2 1 1 1 2 1 2 ...\n",
      " $ age       : num  19 65 41 42 25 34 24 43 26 23 ...\n",
      " $ g2000     : Factor w/ 2 levels \"0\",\"1\": 1 2 1 1 1 1 2 2 1 2 ...\n",
      " $ g2002     : Factor w/ 2 levels \"0\",\"1\": 2 1 2 2 1 1 1 1 1 1 ...\n",
      " $ p2000     : Factor w/ 2 levels \"0\",\"1\": 2 1 1 2 2 2 2 1 1 1 ...\n",
      " $ p2002     : Factor w/ 4 levels \"0\",\"0.5\",\"1\",..: 2 3 3 2 2 2 4 1 1 3 ...\n",
      " $ p2004     : Factor w/ 2 levels \"0\",\"1\": 1 1 1 1 2 2 1 2 2 1 ...\n",
      " $ hh_size   : num  4 2 1 1 3 2 1 4 1 1 ...\n",
      " $ p2004_mean: num  0.43205 0.00108 0.32449 0.96579 0.37423 ...\n",
      " $ g2004_mean: num  0.313 0.106 0.426 0.615 0.696 ...\n",
      " $ Civic_Duty: Factor w/ 2 levels \"0\",\"1\": 1 2 1 1 2 2 2 1 1 1 ...\n",
      " $ Control   : Factor w/ 2 levels \"0\",\"1\": 1 1 2 1 1 1 1 2 2 1 ...\n",
      " $ Hawthorne : Factor w/ 2 levels \"0\",\"1\": 1 1 1 2 1 1 1 1 1 1 ...\n",
      " $ Neighbors : Factor w/ 2 levels \"0\",\"1\": 2 1 1 1 1 1 1 1 1 1 ...\n",
      " $ Self      : Factor w/ 2 levels \"0\",\"1\": 1 1 1 1 1 1 1 1 1 2 ...\n",
      " $ treatment : Factor w/ 5 levels \"Civic_Duty\",\"Control\",..: 4 1 2 3 1 1 1 2 2 5 ...\n"
     ]
    }
   ],
   "source": [
    "set.seed(123)\n",
    "main_idx <- sample(seq_len(nrow(main_data)), 0.70*nrow(main_data), replace=F)\n",
    "train <-main_data[main_idx, ] #Splitting into train sample\n",
    "test<- main_data[-main_idx, ] #Splitting into test sample\n",
    "#\n",
    "train<-na.omit(train)\n",
    "head(train)\n",
    "dim(train)\n",
    "str(train)\n"
   ]
  },
  {
   "cell_type": "markdown",
   "metadata": {},
   "source": [
    "### Fitting the Random Forest Model"
   ]
  },
  {
   "cell_type": "code",
   "execution_count": 71,
   "metadata": {},
   "outputs": [],
   "source": [
    "set.seed(123)\n",
    "\n",
    "Forest <- randomForest(voted ~ .-treatment, data = train)\n"
   ]
  },
  {
   "cell_type": "code",
   "execution_count": 72,
   "metadata": {},
   "outputs": [
    {
     "data": {
      "text/plain": [
       "\n",
       "Call:\n",
       " randomForest(formula = voted ~ . - treatment, data = train) \n",
       "               Type of random forest: classification\n",
       "                     Number of trees: 500\n",
       "No. of variables tried at each split: 3\n",
       "\n",
       "        OOB estimate of  error rate: 6.67%\n",
       "Confusion matrix:\n",
       "    0    1 class.error\n",
       "0 457   88  0.16146789\n",
       "1  52 1503  0.03344051"
      ]
     },
     "metadata": {},
     "output_type": "display_data"
    }
   ],
   "source": [
    "Forest"
   ]
  },
  {
   "cell_type": "markdown",
   "metadata": {},
   "source": [
    "The result displays the out of box error rate as well as the confusion matrix.\n",
    "The Random Forest returns an OOB error rate of 6.67%, as is able to successfully predict more than 92% of the out of box outcomes."
   ]
  },
  {
   "cell_type": "markdown",
   "metadata": {},
   "source": [
    "### Logistic Regression with 10 fold cross validation"
   ]
  },
  {
   "cell_type": "markdown",
   "metadata": {},
   "source": [
    "We will now fit a logistic regression model to the training data at hand.This is similar to the method used in the paper,to find the coefficients of the treatments,to estimate the average treatment effect.\n",
    "\n"
   ]
  },
  {
   "cell_type": "code",
   "execution_count": 73,
   "metadata": {},
   "outputs": [
    {
     "name": "stderr",
     "output_type": "stream",
     "text": [
      "Warning message in predict.lm(object, newdata, se.fit, scale = 1, type = if (type == :\n",
      "\"prediction from a rank-deficient fit may be misleading\"\n",
      "Warning message in predict.lm(object, newdata, se.fit, scale = 1, type = if (type == :\n",
      "\"prediction from a rank-deficient fit may be misleading\"\n",
      "Warning message in predict.lm(object, newdata, se.fit, scale = 1, type = if (type == :\n",
      "\"prediction from a rank-deficient fit may be misleading\"\n",
      "Warning message in predict.lm(object, newdata, se.fit, scale = 1, type = if (type == :\n",
      "\"prediction from a rank-deficient fit may be misleading\"\n",
      "Warning message in predict.lm(object, newdata, se.fit, scale = 1, type = if (type == :\n",
      "\"prediction from a rank-deficient fit may be misleading\"\n",
      "Warning message in predict.lm(object, newdata, se.fit, scale = 1, type = if (type == :\n",
      "\"prediction from a rank-deficient fit may be misleading\"\n",
      "Warning message in predict.lm(object, newdata, se.fit, scale = 1, type = if (type == :\n",
      "\"prediction from a rank-deficient fit may be misleading\"\n",
      "Warning message in predict.lm(object, newdata, se.fit, scale = 1, type = if (type == :\n",
      "\"prediction from a rank-deficient fit may be misleading\"\n",
      "Warning message in predict.lm(object, newdata, se.fit, scale = 1, type = if (type == :\n",
      "\"prediction from a rank-deficient fit may be misleading\"\n",
      "Warning message in predict.lm(object, newdata, se.fit, scale = 1, type = if (type == :\n",
      "\"prediction from a rank-deficient fit may be misleading\"\n"
     ]
    }
   ],
   "source": [
    "# Define training control\n",
    "set.seed(123) \n",
    "#cross validation to fit logistic regression model\n",
    "train.control <- trainControl(method = \"cv\", number = 10)\n",
    "# Train the model\n",
    "model <- train(voted ~.-treatment, data = train, method = \"glm\",family=binomial((link=\"logit\")),\n",
    "               trControl = train.control)\n",
    "\n"
   ]
  },
  {
   "cell_type": "code",
   "execution_count": 74,
   "metadata": {},
   "outputs": [
    {
     "data": {
      "text/plain": [
       "Generalized Linear Model \n",
       "\n",
       "2100 samples\n",
       "  16 predictor\n",
       "   2 classes: '0', '1' \n",
       "\n",
       "No pre-processing\n",
       "Resampling: Cross-Validated (10 fold) \n",
       "Summary of sample sizes: 1890, 1890, 1890, 1890, 1889, 1891, ... \n",
       "Resampling results:\n",
       "\n",
       "  Accuracy   Kappa    \n",
       "  0.9423873  0.8494528\n"
      ]
     },
     "metadata": {},
     "output_type": "display_data"
    },
    {
     "data": {
      "text/plain": [
       "\n",
       "Call:\n",
       "NULL\n",
       "\n",
       "Deviance Residuals: \n",
       "    Min       1Q   Median       3Q      Max  \n",
       "-2.9413  -0.0090   0.0019   0.0624   3.9907  \n",
       "\n",
       "Coefficients: (2 not defined because of singularities)\n",
       "            Estimate Std. Error z value Pr(>|z|)    \n",
       "(Intercept) 24.90855    1.63713  15.215  < 2e-16 ***\n",
       "sex1        -0.16258    0.22398  -0.726 0.467925    \n",
       "age         -0.41208    0.02622 -15.716  < 2e-16 ***\n",
       "g20001      -0.07508    0.22142  -0.339 0.734549    \n",
       "g20021       0.74722    0.22702   3.291 0.000997 ***\n",
       "p20001       5.06485    0.45878  11.040  < 2e-16 ***\n",
       "p20020.5    -0.48083    0.33638  -1.429 0.152875    \n",
       "p20021       0.32758    0.34422   0.952 0.341263    \n",
       "p20021.5          NA         NA      NA       NA    \n",
       "p20041       2.22469    0.26195   8.493  < 2e-16 ***\n",
       "hh_size      0.05208    0.09654   0.540 0.589534    \n",
       "p2004_mean  -4.98496    0.48977 -10.178  < 2e-16 ***\n",
       "g2004_mean  -1.04187    0.41117  -2.534 0.011280 *  \n",
       "Civic_Duty1 -0.74781    0.34396  -2.174 0.029695 *  \n",
       "Control1    -0.85317    0.36005  -2.370 0.017808 *  \n",
       "Hawthorne1  -0.63914    0.34063  -1.876 0.060609 .  \n",
       "Neighbors1  -1.20393    0.36573  -3.292 0.000995 ***\n",
       "Self1             NA         NA      NA       NA    \n",
       "---\n",
       "Signif. codes:  0 '***' 0.001 '**' 0.01 '*' 0.05 '.' 0.1 ' ' 1\n",
       "\n",
       "(Dispersion parameter for binomial family taken to be 1)\n",
       "\n",
       "    Null deviance: 2404.74  on 2099  degrees of freedom\n",
       "Residual deviance:  542.51  on 2084  degrees of freedom\n",
       "AIC: 574.51\n",
       "\n",
       "Number of Fisher Scoring iterations: 9\n"
      ]
     },
     "metadata": {},
     "output_type": "display_data"
    }
   ],
   "source": [
    "model\n",
    "summary(model)"
   ]
  },
  {
   "cell_type": "markdown",
   "metadata": {},
   "source": [
    "### Calculating Misclassification rate on Test Data"
   ]
  },
  {
   "cell_type": "code",
   "execution_count": 75,
   "metadata": {},
   "outputs": [
    {
     "name": "stderr",
     "output_type": "stream",
     "text": [
      "Warning message in predict.lm(object, newdata, se.fit, scale = 1, type = if (type == :\n",
      "\"prediction from a rank-deficient fit may be misleading\"\n"
     ]
    }
   ],
   "source": [
    "\n",
    "test$predicted_voted_forest<-predict(Forest,test[-1])\n",
    "test$predicted_voted_glm <- predict(model,test[-1])\n",
    "\n",
    "accurate_forest=0\n",
    "accurate_glm=0\n",
    "for(i in 1: nrow(test))\n",
    "    \n",
    "{\n",
    "     if (test$voted[i]==test$predicted_voted_forest[i])\n",
    "    accurate_forest=accurate_forest+1\n",
    "    \n",
    "    if (test$voted[i]==test$predicted_voted_glm[i]) ##counting accurate predictions\n",
    "    accurate_glm=accurate_glm+1\n",
    "}\n",
    "classification_error_forest= ((nrow(test)-accurate_forest)/nrow(test))*100\n",
    "classification_error_glm= ((nrow(test)-accurate_glm)/nrow(test))*100"
   ]
  },
  {
   "cell_type": "code",
   "execution_count": 76,
   "metadata": {},
   "outputs": [
    {
     "data": {
      "text/html": [
       "5.88888888888889"
      ],
      "text/latex": [
       "5.88888888888889"
      ],
      "text/markdown": [
       "5.88888888888889"
      ],
      "text/plain": [
       "[1] 5.888889"
      ]
     },
     "metadata": {},
     "output_type": "display_data"
    },
    {
     "data": {
      "text/html": [
       "5.22222222222222"
      ],
      "text/latex": [
       "5.22222222222222"
      ],
      "text/markdown": [
       "5.22222222222222"
      ],
      "text/plain": [
       "[1] 5.222222"
      ]
     },
     "metadata": {},
     "output_type": "display_data"
    }
   ],
   "source": [
    "\n",
    "classification_error_forest\n",
    "classification_error_glm\n"
   ]
  },
  {
   "cell_type": "code",
   "execution_count": 77,
   "metadata": {},
   "outputs": [
    {
     "data": {
      "image/png": "[encoded data removed]",
      "text/plain": [
       "plot without title"
      ]
     },
     "metadata": {
      "image/png": {
       "height": 420,
       "width": 420
      },
      "text/plain": {
       "height": 420,
       "width": 420
      }
     },
     "output_type": "display_data"
    }
   ],
   "source": [
    "df <- data.frame(Model=c(\"Random Forest\", \"Logit Regression\"),\n",
    "                Missclassifcation_error_rate=c(classification_error_forest,classification_error_glm))\n",
    "\n",
    "p<-ggplot(df, aes(x=Model, y=Missclassifcation_error_rate, fill=Model)) +\n",
    "  geom_bar(stat=\"identity\")+theme_minimal()\n",
    "print(p +labs(title= \"\",\n",
    "                      y=\"Missclassification Error Rate\", x = \"Model\"))\n",
    "\n"
   ]
  },
  {
   "cell_type": "markdown",
   "metadata": {},
   "source": [
    "Interestingly enough,the Random Forest of our choice,returns a slightly worser accuracy as opposed to logistic regression.\n",
    "This is in part due to the low  number of predictors,low number of samples nature of our data set.\n",
    "Logistic Regression is also an especially good classifier of binary outcomes.\n",
    "\n"
   ]
  },
  {
   "cell_type": "markdown",
   "metadata": {},
   "source": [
    "### Evaluating the Benchmark results"
   ]
  },
  {
   "cell_type": "markdown",
   "metadata": {},
   "source": [
    "\n",
    "\n",
    "This is in line with the 'No Free Lunch' theorem in data forest - \n",
    "there is no supervised algorithm that consistently performs better than \n",
    "other algorithms for all data sets.\n",
    "If an algorithm performs better in certain scenarios,it will score lower in others.\n",
    "”In particular, if algorithm\n",
    "A outperforms algorithm B on some cost functions, then loosely speaking there\n",
    "must exist exactly as many other functions where B outperforms A.”\n",
    "\n",
    "In summary,our result seems to indicate that when the outcome is binary withh higher variance in the explanatory \n",
    "variables,logistic regression performs better.\n",
    "The true positive rate is higherer for random forests than it is for logistic forest,while also returning a\n",
    "higherer false positive rate.\n",
    "Logistic regression also performs better in low n and p scenarios,while Random Forests perform better in high\n",
    "n (>1000) and scenarios with a high number of predictors.   \n",
    "    \n"
   ]
  },
  {
   "cell_type": "markdown",
   "metadata": {},
   "source": [
    "### Plotting the features of the constructed Random Forest Model\n",
    "\n"
   ]
  },
  {
   "cell_type": "markdown",
   "metadata": {},
   "source": [
    "### Variable Importance"
   ]
  },
  {
   "cell_type": "code",
   "execution_count": 78,
   "metadata": {},
   "outputs": [
    {
     "data": {
      "image/png": "[encoded data removed]",
      "text/plain": [
       "plot without title"
      ]
     },
     "metadata": {
      "image/png": {
       "height": 420,
       "width": 420
      },
      "text/plain": {
       "height": 420,
       "width": 420
      }
     },
     "output_type": "display_data"
    }
   ],
   "source": [
    "\n",
    "imp<-as.data.frame(Forest$importance)\n",
    "ggplot(data= imp, aes(x=rownames(imp),y=MeanDecreaseGini)) +\n",
    "  geom_bar(position=\"dodge\",stat=\"identity\",width = 0, color = \"black\") + \n",
    "  coord_flip() + geom_point(color='skyblue') + xlab(\" Importance Score\")+\n",
    "  ggtitle(\"Variable Importance\") + \n",
    "  theme(plot.title = element_text(hjust = 0.5)) +\n",
    "  theme(panel.background = element_rect(fill = 'white', colour = 'black'))\n",
    "\n"
   ]
  },
  {
   "cell_type": "code",
   "execution_count": 79,
   "metadata": {},
   "outputs": [
    {
     "name": "stdout",
     "output_type": "stream",
     "text": [
      "minimal depth variable selection ...\n",
      "\n",
      "\n",
      "-----------------------------------------------------------\n",
      "family             : class \n",
      "var. selection     : Minimal Depth \n",
      "conservativeness   : medium \n",
      "x-weighting used?  : TRUE \n",
      "dimension          : 16 \n",
      "sample size        : 2100 \n",
      "ntree              : 1000 \n",
      "nsplit             : 10 \n",
      "mtry               : 4 \n",
      "nodesize           : 1 \n",
      "refitted forest    : FALSE \n",
      "model size         : 16 \n",
      "depth threshold    : 5.87 \n",
      "PE (true OOB)      : 0.0681 0.1376 0.0437 \n",
      "\n",
      "\n",
      "Top variables:\n",
      "           depth vimp\n",
      "age        1.279   NA\n",
      "p2004_mean 1.925   NA\n",
      "p2002      2.285   NA\n",
      "p2004      2.520   NA\n",
      "g2004_mean 2.625   NA\n",
      "treatment  3.054   NA\n",
      "hh_size    3.131   NA\n",
      "g2002      3.532   NA\n",
      "g2000      4.249   NA\n",
      "p2000      4.282   NA\n",
      "sex        4.305   NA\n",
      "Neighbors  4.917   NA\n",
      "Self       5.140   NA\n",
      "Control    5.170   NA\n",
      "Civic_Duty 5.210   NA\n",
      "Hawthorne  5.252   NA\n",
      "-----------------------------------------------------------\n"
     ]
    },
    {
     "name": "stderr",
     "output_type": "stream",
     "text": [
      "Warning message in data(varsel_forest):\n",
      "\"data set 'varsel_forest' not found\"\n",
      "Coordinate system already present. Adding new coordinate system, which will replace the existing one.\n",
      "\n"
     ]
    },
    {
     "data": {
      "image/png": "[encoded data removed]",
      "text/plain": [
       "plot without title"
      ]
     },
     "metadata": {
      "image/png": {
       "height": 420,
       "width": 420
      },
      "text/plain": {
       "height": 420,
       "width": 420
      }
     },
     "output_type": "display_data"
    }
   ],
   "source": [
    "train<-as.data.frame(train)\n",
    "rfsrc_forest <- rfsrc(voted~.-hh_id-cluster, data=train)\n",
    "varsel_forest <- var.select(rfsrc_forest)\n",
    "data(varsel_forest)\n",
    "# Save the gg_minimal_depth object for later use.\n",
    "gg_md <- gg_minimal_depth(varsel_forest)\n",
    "# plot the object\n",
    "plot(gg_md)\n"
   ]
  },
  {
   "cell_type": "markdown",
   "metadata": {},
   "source": [
    "### Adapting the data set to further test the stability of the model"
   ]
  },
  {
   "cell_type": "markdown",
   "metadata": {},
   "source": [
    "Now,we can further adapt the data set,to test the stability of Random Forests in more complex environments.\n",
    "We will add\n",
    "* Highly collinear variables\n",
    "* Missing data\n",
    "* Complex Interactions\n",
    "* Noise\n",
    "\n"
   ]
  },
  {
   "cell_type": "markdown",
   "metadata": {},
   "source": [
    "To simulate highly collinear variables,we will introdue a new variable 'Prolictivity to Vote' \n",
    "which is simply a linear combination of age and household size.\n",
    "\n",
    "\n",
    "\n",
    "\n",
    "\n",
    "\n",
    "\n",
    "\n",
    "\n"
   ]
  },
  {
   "cell_type": "code",
   "execution_count": 80,
   "metadata": {},
   "outputs": [],
   "source": [
    "voting_prolictivity <- main_data$hh_size*0.4+main_data$age*0.25\n",
    "\n"
   ]
  },
  {
   "cell_type": "markdown",
   "metadata": {},
   "source": [
    "To simulate interaction terms,we include an interaction variable between age and p2004_mean,household size and p2004_mean,as a higher polynomial of g2004_mean\n",
    "\n",
    "\n",
    "\n",
    "\n"
   ]
  },
  {
   "cell_type": "code",
   "execution_count": 81,
   "metadata": {},
   "outputs": [],
   "source": [
    "interaction_1 <-main_data$p2004_mean*main_data$age\n",
    "interaction_2 <-main_data$p2004_mean*main_data$hh_size\n",
    "higher_order_polynomial<-main_data$g2004_mean*main_data$g2004_mean*main_data$g2004_mean\n",
    "\n"
   ]
  },
  {
   "cell_type": "markdown",
   "metadata": {},
   "source": [
    "Thirdly,we will add a random noise variable."
   ]
  },
  {
   "cell_type": "code",
   "execution_count": 82,
   "metadata": {},
   "outputs": [],
   "source": [
    "noise <- rnorm(nrow(main_data), mean=50, sd=10)\n",
    "\n",
    "main_data_adapted <-as.data.frame(cbind(main_data,voting_prolictivity,interaction_1,interaction_2,higher_order_polynomial,noise))\n"
   ]
  },
  {
   "cell_type": "code",
   "execution_count": 83,
   "metadata": {},
   "outputs": [
    {
     "data": {
      "text/html": [
       "<table>\n",
       "<caption>A data.frame: 6 × 22</caption>\n",
       "<thead>\n",
       "\t<tr><th></th><th scope=col>voted</th><th scope=col>sex</th><th scope=col>age</th><th scope=col>g2000</th><th scope=col>g2002</th><th scope=col>p2000</th><th scope=col>p2002</th><th scope=col>p2004</th><th scope=col>hh_size</th><th scope=col>p2004_mean</th><th scope=col>...</th><th scope=col>Control</th><th scope=col>Hawthorne</th><th scope=col>Neighbors</th><th scope=col>Self</th><th scope=col>treatment</th><th scope=col>voting_prolictivity</th><th scope=col>interaction_1</th><th scope=col>interaction_2</th><th scope=col>higher_order_polynomial</th><th scope=col>noise</th></tr>\n",
       "\t<tr><th></th><th scope=col>&lt;fct&gt;</th><th scope=col>&lt;fct&gt;</th><th scope=col>&lt;dbl&gt;</th><th scope=col>&lt;fct&gt;</th><th scope=col>&lt;fct&gt;</th><th scope=col>&lt;fct&gt;</th><th scope=col>&lt;fct&gt;</th><th scope=col>&lt;fct&gt;</th><th scope=col>&lt;dbl&gt;</th><th scope=col>&lt;dbl&gt;</th><th scope=col>...</th><th scope=col>&lt;fct&gt;</th><th scope=col>&lt;fct&gt;</th><th scope=col>&lt;fct&gt;</th><th scope=col>&lt;fct&gt;</th><th scope=col>&lt;fct&gt;</th><th scope=col>&lt;dbl&gt;</th><th scope=col>&lt;dbl&gt;</th><th scope=col>&lt;dbl&gt;</th><th scope=col>&lt;dbl&gt;</th><th scope=col>&lt;dbl&gt;</th></tr>\n",
       "</thead>\n",
       "<tbody>\n",
       "\t<tr><th scope=row>1</th><td>1</td><td>0</td><td>41</td><td>1</td><td>0</td><td>0</td><td>0  </td><td>0</td><td>3</td><td>0.3061236</td><td>...</td><td>0</td><td>0</td><td>0</td><td>0</td><td>Civic_Duty</td><td>11.45</td><td>12.551066</td><td>0.9183707</td><td>0.216201090</td><td>42.22363</td></tr>\n",
       "\t<tr><th scope=row>2</th><td>1</td><td>0</td><td>34</td><td>0</td><td>0</td><td>1</td><td>1.5</td><td>0</td><td>4</td><td>0.4147745</td><td>...</td><td>0</td><td>0</td><td>1</td><td>0</td><td>Neighbors </td><td>10.10</td><td>14.102332</td><td>1.6590979</td><td>0.562625938</td><td>29.47860</td></tr>\n",
       "\t<tr><th scope=row>3</th><td>0</td><td>0</td><td>77</td><td>0</td><td>1</td><td>1</td><td>1.5</td><td>1</td><td>4</td><td>0.4330746</td><td>...</td><td>0</td><td>0</td><td>1</td><td>0</td><td>Neighbors </td><td>20.85</td><td>33.346747</td><td>1.7322986</td><td>0.152925252</td><td>53.94938</td></tr>\n",
       "\t<tr><th scope=row>4</th><td>1</td><td>1</td><td>31</td><td>1</td><td>0</td><td>1</td><td>1.5</td><td>0</td><td>3</td><td>0.2615412</td><td>...</td><td>0</td><td>0</td><td>0</td><td>0</td><td>Civic_Duty</td><td> 8.95</td><td> 8.107777</td><td>0.7846236</td><td>0.002910147</td><td>42.98366</td></tr>\n",
       "\t<tr><th scope=row>5</th><td>1</td><td>0</td><td>43</td><td>0</td><td>1</td><td>0</td><td>1  </td><td>0</td><td>1</td><td>0.5763201</td><td>...</td><td>1</td><td>0</td><td>0</td><td>0</td><td>Control   </td><td>11.15</td><td>24.781765</td><td>0.5763201</td><td>0.352558610</td><td>20.30676</td></tr>\n",
       "\t<tr><th scope=row>6</th><td>1</td><td>1</td><td>48</td><td>0</td><td>0</td><td>1</td><td>0.5</td><td>1</td><td>4</td><td>0.2111344</td><td>...</td><td>0</td><td>0</td><td>0</td><td>1</td><td>Self      </td><td>13.60</td><td>10.134453</td><td>0.8445377</td><td>0.149451834</td><td>52.71865</td></tr>\n",
       "</tbody>\n",
       "</table>\n"
      ],
      "text/latex": [
       "A data.frame: 6 × 22\n",
       "\\begin{tabular}{r|lllllllllllllllllllll}\n",
       "  & voted & sex & age & g2000 & g2002 & p2000 & p2002 & p2004 & hh\\_size & p2004\\_mean & ... & Control & Hawthorne & Neighbors & Self & treatment & voting\\_prolictivity & interaction\\_1 & interaction\\_2 & higher\\_order\\_polynomial & noise\\\\\n",
       "  & <fct> & <fct> & <dbl> & <fct> & <fct> & <fct> & <fct> & <fct> & <dbl> & <dbl> & ... & <fct> & <fct> & <fct> & <fct> & <fct> & <dbl> & <dbl> & <dbl> & <dbl> & <dbl>\\\\\n",
       "\\hline\n",
       "\t1 & 1 & 0 & 41 & 1 & 0 & 0 & 0   & 0 & 3 & 0.3061236 & ... & 0 & 0 & 0 & 0 & Civic\\_Duty & 11.45 & 12.551066 & 0.9183707 & 0.216201090 & 42.22363\\\\\n",
       "\t2 & 1 & 0 & 34 & 0 & 0 & 1 & 1.5 & 0 & 4 & 0.4147745 & ... & 0 & 0 & 1 & 0 & Neighbors  & 10.10 & 14.102332 & 1.6590979 & 0.562625938 & 29.47860\\\\\n",
       "\t3 & 0 & 0 & 77 & 0 & 1 & 1 & 1.5 & 1 & 4 & 0.4330746 & ... & 0 & 0 & 1 & 0 & Neighbors  & 20.85 & 33.346747 & 1.7322986 & 0.152925252 & 53.94938\\\\\n",
       "\t4 & 1 & 1 & 31 & 1 & 0 & 1 & 1.5 & 0 & 3 & 0.2615412 & ... & 0 & 0 & 0 & 0 & Civic\\_Duty &  8.95 &  8.107777 & 0.7846236 & 0.002910147 & 42.98366\\\\\n",
       "\t5 & 1 & 0 & 43 & 0 & 1 & 0 & 1   & 0 & 1 & 0.5763201 & ... & 1 & 0 & 0 & 0 & Control    & 11.15 & 24.781765 & 0.5763201 & 0.352558610 & 20.30676\\\\\n",
       "\t6 & 1 & 1 & 48 & 0 & 0 & 1 & 0.5 & 1 & 4 & 0.2111344 & ... & 0 & 0 & 0 & 1 & Self       & 13.60 & 10.134453 & 0.8445377 & 0.149451834 & 52.71865\\\\\n",
       "\\end{tabular}\n"
      ],
      "text/markdown": [
       "\n",
       "A data.frame: 6 × 22\n",
       "\n",
       "| <!--/--> | voted &lt;fct&gt; | sex &lt;fct&gt; | age &lt;dbl&gt; | g2000 &lt;fct&gt; | g2002 &lt;fct&gt; | p2000 &lt;fct&gt; | p2002 &lt;fct&gt; | p2004 &lt;fct&gt; | hh_size &lt;dbl&gt; | p2004_mean &lt;dbl&gt; | ... ... | Control &lt;fct&gt; | Hawthorne &lt;fct&gt; | Neighbors &lt;fct&gt; | Self &lt;fct&gt; | treatment &lt;fct&gt; | voting_prolictivity &lt;dbl&gt; | interaction_1 &lt;dbl&gt; | interaction_2 &lt;dbl&gt; | higher_order_polynomial &lt;dbl&gt; | noise &lt;dbl&gt; |\n",
       "|---|---|---|---|---|---|---|---|---|---|---|---|---|---|---|---|---|---|---|---|---|---|\n",
       "| 1 | 1 | 0 | 41 | 1 | 0 | 0 | 0   | 0 | 3 | 0.3061236 | ... | 0 | 0 | 0 | 0 | Civic_Duty | 11.45 | 12.551066 | 0.9183707 | 0.216201090 | 42.22363 |\n",
       "| 2 | 1 | 0 | 34 | 0 | 0 | 1 | 1.5 | 0 | 4 | 0.4147745 | ... | 0 | 0 | 1 | 0 | Neighbors  | 10.10 | 14.102332 | 1.6590979 | 0.562625938 | 29.47860 |\n",
       "| 3 | 0 | 0 | 77 | 0 | 1 | 1 | 1.5 | 1 | 4 | 0.4330746 | ... | 0 | 0 | 1 | 0 | Neighbors  | 20.85 | 33.346747 | 1.7322986 | 0.152925252 | 53.94938 |\n",
       "| 4 | 1 | 1 | 31 | 1 | 0 | 1 | 1.5 | 0 | 3 | 0.2615412 | ... | 0 | 0 | 0 | 0 | Civic_Duty |  8.95 |  8.107777 | 0.7846236 | 0.002910147 | 42.98366 |\n",
       "| 5 | 1 | 0 | 43 | 0 | 1 | 0 | 1   | 0 | 1 | 0.5763201 | ... | 1 | 0 | 0 | 0 | Control    | 11.15 | 24.781765 | 0.5763201 | 0.352558610 | 20.30676 |\n",
       "| 6 | 1 | 1 | 48 | 0 | 0 | 1 | 0.5 | 1 | 4 | 0.2111344 | ... | 0 | 0 | 0 | 1 | Self       | 13.60 | 10.134453 | 0.8445377 | 0.149451834 | 52.71865 |\n",
       "\n"
      ],
      "text/plain": [
       "  voted sex age g2000 g2002 p2000 p2002 p2004 hh_size p2004_mean ... Control\n",
       "1 1     0   41  1     0     0     0     0     3       0.3061236  ... 0      \n",
       "2 1     0   34  0     0     1     1.5   0     4       0.4147745  ... 0      \n",
       "3 0     0   77  0     1     1     1.5   1     4       0.4330746  ... 0      \n",
       "4 1     1   31  1     0     1     1.5   0     3       0.2615412  ... 0      \n",
       "5 1     0   43  0     1     0     1     0     1       0.5763201  ... 1      \n",
       "6 1     1   48  0     0     1     0.5   1     4       0.2111344  ... 0      \n",
       "  Hawthorne Neighbors Self treatment  voting_prolictivity interaction_1\n",
       "1 0         0         0    Civic_Duty 11.45               12.551066    \n",
       "2 0         1         0    Neighbors  10.10               14.102332    \n",
       "3 0         1         0    Neighbors  20.85               33.346747    \n",
       "4 0         0         0    Civic_Duty  8.95                8.107777    \n",
       "5 0         0         0    Control    11.15               24.781765    \n",
       "6 0         0         1    Self       13.60               10.134453    \n",
       "  interaction_2 higher_order_polynomial noise   \n",
       "1 0.9183707     0.216201090             42.22363\n",
       "2 1.6590979     0.562625938             29.47860\n",
       "3 1.7322986     0.152925252             53.94938\n",
       "4 0.7846236     0.002910147             42.98366\n",
       "5 0.5763201     0.352558610             20.30676\n",
       "6 0.8445377     0.149451834             52.71865"
      ]
     },
     "metadata": {},
     "output_type": "display_data"
    }
   ],
   "source": [
    "head(main_data_adapted)\n",
    "\n"
   ]
  },
  {
   "cell_type": "markdown",
   "metadata": {},
   "source": [
    "Fourthly,adding some missing data-"
   ]
  },
  {
   "cell_type": "code",
   "execution_count": null,
   "metadata": {},
   "outputs": [],
   "source": [
    "main.data.mis <- prodNA(main_data_adapted, noNA = 0.1)"
   ]
  },
  {
   "cell_type": "markdown",
   "metadata": {},
   "source": [
    "The Random Forest algorithm in the RandomForest package,build under the specificatiosn of Leo Breiman(2001) is \n",
    "unable to automatically account for missing data.\n",
    "Therefore,we first use the MissForest Package,which allows for a non parametric imputation method to fill in missing data in\n",
    " dataframes.It can model complex interactions,mixed variables and high dimensional data.\n",
    "However it requires that the data set is pairwise independent.\n",
    "The algorithm is constructed based on the specifications of Breiman (2001).\n"
   ]
  },
  {
   "cell_type": "markdown",
   "metadata": {},
   "source": [
    "*main_data_adapted <- missForest(main.data.mis)*\n"
   ]
  },
  {
   "cell_type": "code",
   "execution_count": 84,
   "metadata": {},
   "outputs": [
    {
     "name": "stdout",
     "output_type": "stream",
     "text": [
      "'data.frame':\t3000 obs. of  22 variables:\n",
      " $ voted                  : Factor w/ 2 levels \"0\",\"1\": 2 2 1 2 2 2 2 1 2 1 ...\n",
      " $ sex                    : Factor w/ 2 levels \"0\",\"1\": 1 1 1 2 1 2 1 2 1 1 ...\n",
      " $ age                    : num  41 34 77 31 43 48 23 76 26 71 ...\n",
      " $ g2000                  : Factor w/ 2 levels \"0\",\"1\": 2 1 1 2 1 1 2 2 2 2 ...\n",
      " $ g2002                  : Factor w/ 2 levels \"0\",\"1\": 1 1 2 1 2 1 1 1 1 1 ...\n",
      " $ p2000                  : Factor w/ 2 levels \"0\",\"1\": 1 2 2 2 1 2 2 1 1 2 ...\n",
      " $ p2002                  : Factor w/ 4 levels \"0\",\"0.5\",\"1\",..: 1 4 4 4 3 2 4 3 3 4 ...\n",
      " $ p2004                  : Factor w/ 2 levels \"0\",\"1\": 1 1 2 1 1 2 2 1 2 1 ...\n",
      " $ hh_size                : num  3 4 4 3 1 4 1 2 4 3 ...\n",
      " $ p2004_mean             : num  0.306 0.415 0.433 0.262 0.576 ...\n",
      " $ g2004_mean             : num  0.6 0.826 0.535 0.143 0.706 ...\n",
      " $ Civic_Duty             : Factor w/ 2 levels \"0\",\"1\": 2 1 1 2 1 1 1 1 1 1 ...\n",
      " $ Control                : Factor w/ 2 levels \"0\",\"1\": 1 1 1 1 2 1 1 1 1 1 ...\n",
      " $ Hawthorne              : Factor w/ 2 levels \"0\",\"1\": 1 1 1 1 1 1 1 1 1 2 ...\n",
      " $ Neighbors              : Factor w/ 2 levels \"0\",\"1\": 1 2 2 1 1 1 1 1 1 1 ...\n",
      " $ Self                   : Factor w/ 2 levels \"0\",\"1\": 1 1 1 1 1 2 2 2 2 1 ...\n",
      " $ treatment              : Factor w/ 5 levels \"Civic_Duty\",\"Control\",..: 1 4 4 1 2 5 5 5 5 3 ...\n",
      " $ voting_prolictivity    : num  11.45 10.1 20.85 8.95 11.15 ...\n",
      " $ interaction_1          : num  12.55 14.1 33.35 8.11 24.78 ...\n",
      " $ interaction_2          : num  0.918 1.659 1.732 0.785 0.576 ...\n",
      " $ higher_order_polynomial: num  0.2162 0.56263 0.15293 0.00291 0.35256 ...\n",
      " $ noise                  : num  42.2 29.5 53.9 43 20.3 ...\n"
     ]
    }
   ],
   "source": [
    "str(main_data_adapted)\n"
   ]
  },
  {
   "cell_type": "markdown",
   "metadata": {},
   "source": [
    "### Fitting a new Random Forest to the adapted Data Set"
   ]
  },
  {
   "cell_type": "code",
   "execution_count": 109,
   "metadata": {},
   "outputs": [],
   "source": [
    "\n",
    "\n",
    "main_idx <- sample(seq_len(nrow(main_data_adapted)), 0.70*nrow(main_data_adapted), replace=F)\n",
    "                   \n",
    "train <-main_data_adapted[main_idx, ] #Splitting into train sample\n",
    "test<- main_data_adapted[-main_idx, ]  #Splitting into test sample\n",
    "\n",
    "Forest <- randomForest(voted ~ .-treatment, data = train)\n"
   ]
  },
  {
   "cell_type": "code",
   "execution_count": 110,
   "metadata": {},
   "outputs": [
    {
     "data": {
      "text/plain": [
       "\n",
       "Call:\n",
       " randomForest(formula = voted ~ . - treatment, data = train) \n",
       "               Type of random forest: classification\n",
       "                     Number of trees: 500\n",
       "No. of variables tried at each split: 4\n",
       "\n",
       "        OOB estimate of  error rate: 6.14%\n",
       "Confusion matrix:\n",
       "    0    1 class.error\n",
       "0 458   70  0.13257576\n",
       "1  59 1513  0.03753181"
      ]
     },
     "metadata": {},
     "output_type": "display_data"
    },
    {
     "data": {
      "image/png": "[encoded data removed]",
      "text/plain": [
       "Plot with title \"Forest\""
      ]
     },
     "metadata": {
      "image/png": {
       "height": 420,
       "width": 420
      },
      "text/plain": {
       "height": 420,
       "width": 420
      }
     },
     "output_type": "display_data"
    }
   ],
   "source": [
    "Forest\n",
    "plot(Forest)\n"
   ]
  },
  {
   "cell_type": "markdown",
   "metadata": {},
   "source": [
    "The above plot depicts the convergence of error rate on bagging over an increasing number of trees,where the black line is the OOB error rate."
   ]
  },
  {
   "cell_type": "markdown",
   "metadata": {},
   "source": [
    "### Analysis of the newly Constructed Random Forest"
   ]
  },
  {
   "cell_type": "code",
   "execution_count": 111,
   "metadata": {},
   "outputs": [
    {
     "data": {
      "image/png": "[encoded data removed]",
      "text/plain": [
       "plot without title"
      ]
     },
     "metadata": {
      "image/png": {
       "height": 420,
       "width": 420
      },
      "text/plain": {
       "height": 420,
       "width": 420
      }
     },
     "output_type": "display_data"
    },
    {
     "data": {
      "image/png": "[encoded data removed]",
      "text/plain": [
       "plot without title"
      ]
     },
     "metadata": {
      "image/png": {
       "height": 420,
       "width": 420
      },
      "text/plain": {
       "height": 420,
       "width": 420
      }
     },
     "output_type": "display_data"
    }
   ],
   "source": [
    "\n",
    "imp<-as.data.frame(Forest$importance)\n",
    "ggplot(data= imp, aes(x=rownames(imp),y=MeanDecreaseGini)) +\n",
    "  geom_bar(position=\"dodge\",stat=\"identity\",width = 0, color = \"black\") + \n",
    "  coord_flip() + geom_point(color='skyblue') + xlab(\" Importance Score\")+\n",
    "  ggtitle(\"Variable Importance\") + \n",
    "  theme(plot.title = element_text(hjust = 0.5)) +\n",
    "  theme(panel.background = element_rect(fill = 'white', colour = 'black'))\n",
    "\n",
    "\n",
    "\n",
    "\n",
    "rfsrc_Boston <- rfsrc(voted~., data=train)\n",
    "plot(gg_vimp(vimp.rfsrc(rfsrc_Boston)))\n",
    "\n"
   ]
  },
  {
   "cell_type": "markdown",
   "metadata": {},
   "source": [
    "The first diagram is based on the Gini Impurity measure while the second uses the Permutation measure to derive variable importance.\n",
    "\n",
    "As you can see,our interaction terms are displayed as the most important predictor according to GINI impurity.\n",
    "This is because it contains information from two very important variables,and random forests uses it in the root nodes.In this case,it is suggested to use only the interaction term,and avoid using the factors to simplify the model,while retaining it's accuracy.The explicit imputation of interaction terms is not necessary while using random forests.\n",
    "\n",
    "\n",
    "\n",
    "Using GINI impurity,the noise is actually creating better splits than the treatment and the voting history.This can lead to erroneous conclusions.The model has overfit on the noise and found it to be a better predictor than other variables ,which would be theoretically more important.Here again,using the Permutation measure,we can see that the Noise was accurately labelled,and does not appear in the Variable importance graph.Permutation measure of variable importance hence works significantly more accurately than the GINI impurity measure.\n"
   ]
  },
  {
   "cell_type": "code",
   "execution_count": 88,
   "metadata": {},
   "outputs": [
    {
     "name": "stdout",
     "output_type": "stream",
     "text": [
      "minimal depth variable selection ...\n",
      "\n",
      "\n",
      "-----------------------------------------------------------\n",
      "family             : class \n",
      "var. selection     : Minimal Depth \n",
      "conservativeness   : medium \n",
      "x-weighting used?  : TRUE \n",
      "dimension          : 21 \n",
      "sample size        : 2100 \n",
      "ntree              : 1000 \n",
      "nsplit             : 10 \n",
      "mtry               : 5 \n",
      "nodesize           : 1 \n",
      "refitted forest    : FALSE \n",
      "model size         : 14 \n",
      "depth threshold    : 5.7995 \n",
      "PE (true OOB)      : 0.0681 0.1243 0.0479 \n",
      "\n",
      "\n",
      "Top variables:\n",
      "                        depth vimp\n",
      "age                     1.442   NA\n",
      "voting_prolictivity     1.629   NA\n",
      "interaction_1           1.942   NA\n",
      "p2004_mean              2.670   NA\n",
      "p2002                   2.826   NA\n",
      "interaction_2           3.125   NA\n",
      "p2000                   3.698   NA\n",
      "p2004                   3.714   NA\n",
      "hh_size                 3.964   NA\n",
      "higher_order_polynomial 3.966   NA\n",
      "g2004_mean              3.968   NA\n",
      "treatment               4.054   NA\n",
      "noise                   4.101   NA\n",
      "g2002                   4.920   NA\n",
      "-----------------------------------------------------------\n"
     ]
    },
    {
     "name": "stderr",
     "output_type": "stream",
     "text": [
      "Warning message in data(varsel_Boston):\n",
      "\"data set 'varsel_Boston' not found\"\n",
      "Coordinate system already present. Adding new coordinate system, which will replace the existing one.\n",
      "\n"
     ]
    },
    {
     "data": {
      "image/png": "[encoded data removed]",
      "text/plain": [
       "plot without title"
      ]
     },
     "metadata": {
      "image/png": {
       "height": 420,
       "width": 420
      },
      "text/plain": {
       "height": 420,
       "width": 420
      }
     },
     "output_type": "display_data"
    }
   ],
   "source": [
    "train<-as.data.frame(train)\n",
    "rfsrc_Boston <- rfsrc(voted~.-hh_id-cluster, data=train)\n",
    "varsel_Boston <- var.select(rfsrc_Boston)\n",
    "data(varsel_Boston)\n",
    "# Save the gg_minimal_depth object for later use.\n",
    "gg_md <- gg_minimal_depth(varsel_Boston)\n",
    "# plot the object\n",
    "plot(gg_md)\n"
   ]
  },
  {
   "cell_type": "markdown",
   "metadata": {},
   "source": [
    "Sex,Civic Duty and the treatment has the highest minimal depth,indicating the furthest distance from\n",
    "the root node.\n",
    "This is a useful measure of importance,as it also shows our interaction term and age being closest \n",
    "to the root nodes and enabling the highest amount of differentiation between the outcome variables\n",
    "in the constructed random forest model.\n"
   ]
  },
  {
   "cell_type": "markdown",
   "metadata": {},
   "source": [
    "# Section 3"
   ]
  },
  {
   "cell_type": "markdown",
   "metadata": {},
   "source": [
    "# Empirical Application"
   ]
  },
  {
   "cell_type": "markdown",
   "metadata": {},
   "source": [
    "To test our Random Forest model in an empirical setting,we will use a highly popular 'Titanic' Data Set.It is data set containing the information\n",
    "of passengers who embarked on the Titanic,with individual information and variable which conveys whether the individual survived or not.\n",
    "\n",
    "\n",
    "Firstly,we have to lightly preprocess the data,check for missingness and decide whether to impute the data or drop the variables with high levels of missingness.\n"
   ]
  },
  {
   "cell_type": "code",
   "execution_count": 135,
   "metadata": {},
   "outputs": [
    {
     "name": "stderr",
     "output_type": "stream",
     "text": [
      "Parsed with column specification:\n",
      "cols(\n",
      "  PassengerId = \u001b[32mcol_double()\u001b[39m,\n",
      "  Survived = \u001b[32mcol_double()\u001b[39m,\n",
      "  Pclass = \u001b[32mcol_double()\u001b[39m,\n",
      "  Name = \u001b[31mcol_character()\u001b[39m,\n",
      "  Sex = \u001b[31mcol_character()\u001b[39m,\n",
      "  Age = \u001b[32mcol_double()\u001b[39m,\n",
      "  SibSp = \u001b[32mcol_double()\u001b[39m,\n",
      "  Parch = \u001b[32mcol_double()\u001b[39m,\n",
      "  Ticket = \u001b[31mcol_character()\u001b[39m,\n",
      "  Fare = \u001b[32mcol_double()\u001b[39m,\n",
      "  Cabin = \u001b[31mcol_character()\u001b[39m,\n",
      "  Embarked = \u001b[31mcol_character()\u001b[39m\n",
      ")\n",
      "\n",
      "Parsed with column specification:\n",
      "cols(\n",
      "  PassengerId = \u001b[32mcol_double()\u001b[39m,\n",
      "  Pclass = \u001b[32mcol_double()\u001b[39m,\n",
      "  Name = \u001b[31mcol_character()\u001b[39m,\n",
      "  Sex = \u001b[31mcol_character()\u001b[39m,\n",
      "  Age = \u001b[32mcol_double()\u001b[39m,\n",
      "  SibSp = \u001b[32mcol_double()\u001b[39m,\n",
      "  Parch = \u001b[32mcol_double()\u001b[39m,\n",
      "  Ticket = \u001b[31mcol_character()\u001b[39m,\n",
      "  Fare = \u001b[32mcol_double()\u001b[39m,\n",
      "  Cabin = \u001b[31mcol_character()\u001b[39m,\n",
      "  Embarked = \u001b[31mcol_character()\u001b[39m\n",
      ")\n",
      "\n"
     ]
    }
   ],
   "source": [
    "train_titanic<- read_csv(\"train_titanic.csv\")\n",
    "test_titanic<-read_csv(\"test_titanic.csv\")\n",
    "titanic_data <- bind_rows(train_titanic,test_titanic)\n",
    "\n",
    "\n"
   ]
  },
  {
   "cell_type": "code",
   "execution_count": 136,
   "metadata": {},
   "outputs": [
    {
     "data": {
      "text/html": [
       "<table>\n",
       "<caption>A tibble: 6 × 12</caption>\n",
       "<thead>\n",
       "\t<tr><th scope=col>PassengerId</th><th scope=col>Survived</th><th scope=col>Pclass</th><th scope=col>Name</th><th scope=col>Sex</th><th scope=col>Age</th><th scope=col>SibSp</th><th scope=col>Parch</th><th scope=col>Ticket</th><th scope=col>Fare</th><th scope=col>Cabin</th><th scope=col>Embarked</th></tr>\n",
       "\t<tr><th scope=col>&lt;dbl&gt;</th><th scope=col>&lt;dbl&gt;</th><th scope=col>&lt;dbl&gt;</th><th scope=col>&lt;chr&gt;</th><th scope=col>&lt;chr&gt;</th><th scope=col>&lt;dbl&gt;</th><th scope=col>&lt;dbl&gt;</th><th scope=col>&lt;dbl&gt;</th><th scope=col>&lt;chr&gt;</th><th scope=col>&lt;dbl&gt;</th><th scope=col>&lt;chr&gt;</th><th scope=col>&lt;chr&gt;</th></tr>\n",
       "</thead>\n",
       "<tbody>\n",
       "\t<tr><td>1</td><td>0</td><td>3</td><td>Braund, Mr. Owen Harris                            </td><td>male  </td><td>22</td><td>1</td><td>0</td><td>A/5 21171       </td><td> 7.2500</td><td>NA  </td><td>S</td></tr>\n",
       "\t<tr><td>2</td><td>1</td><td>1</td><td>Cumings, Mrs. John Bradley (Florence Briggs Thayer)</td><td>female</td><td>38</td><td>1</td><td>0</td><td>PC 17599        </td><td>71.2833</td><td>C85 </td><td>C</td></tr>\n",
       "\t<tr><td>3</td><td>1</td><td>3</td><td>Heikkinen, Miss. Laina                             </td><td>female</td><td>26</td><td>0</td><td>0</td><td>STON/O2. 3101282</td><td> 7.9250</td><td>NA  </td><td>S</td></tr>\n",
       "\t<tr><td>4</td><td>1</td><td>1</td><td>Futrelle, Mrs. Jacques Heath (Lily May Peel)       </td><td>female</td><td>35</td><td>1</td><td>0</td><td>113803          </td><td>53.1000</td><td>C123</td><td>S</td></tr>\n",
       "\t<tr><td>5</td><td>0</td><td>3</td><td>Allen, Mr. William Henry                           </td><td>male  </td><td>35</td><td>0</td><td>0</td><td>373450          </td><td> 8.0500</td><td>NA  </td><td>S</td></tr>\n",
       "\t<tr><td>6</td><td>0</td><td>3</td><td>Moran, Mr. James                                   </td><td>male  </td><td>NA</td><td>0</td><td>0</td><td>330877          </td><td> 8.4583</td><td>NA  </td><td>Q</td></tr>\n",
       "</tbody>\n",
       "</table>\n"
      ],
      "text/latex": [
       "A tibble: 6 × 12\n",
       "\\begin{tabular}{llllllllllll}\n",
       " PassengerId & Survived & Pclass & Name & Sex & Age & SibSp & Parch & Ticket & Fare & Cabin & Embarked\\\\\n",
       " <dbl> & <dbl> & <dbl> & <chr> & <chr> & <dbl> & <dbl> & <dbl> & <chr> & <dbl> & <chr> & <chr>\\\\\n",
       "\\hline\n",
       "\t 1 & 0 & 3 & Braund, Mr. Owen Harris                             & male   & 22 & 1 & 0 & A/5 21171        &  7.2500 & NA   & S\\\\\n",
       "\t 2 & 1 & 1 & Cumings, Mrs. John Bradley (Florence Briggs Thayer) & female & 38 & 1 & 0 & PC 17599         & 71.2833 & C85  & C\\\\\n",
       "\t 3 & 1 & 3 & Heikkinen, Miss. Laina                              & female & 26 & 0 & 0 & STON/O2. 3101282 &  7.9250 & NA   & S\\\\\n",
       "\t 4 & 1 & 1 & Futrelle, Mrs. Jacques Heath (Lily May Peel)        & female & 35 & 1 & 0 & 113803           & 53.1000 & C123 & S\\\\\n",
       "\t 5 & 0 & 3 & Allen, Mr. William Henry                            & male   & 35 & 0 & 0 & 373450           &  8.0500 & NA   & S\\\\\n",
       "\t 6 & 0 & 3 & Moran, Mr. James                                    & male   & NA & 0 & 0 & 330877           &  8.4583 & NA   & Q\\\\\n",
       "\\end{tabular}\n"
      ],
      "text/markdown": [
       "\n",
       "A tibble: 6 × 12\n",
       "\n",
       "| PassengerId &lt;dbl&gt; | Survived &lt;dbl&gt; | Pclass &lt;dbl&gt; | Name &lt;chr&gt; | Sex &lt;chr&gt; | Age &lt;dbl&gt; | SibSp &lt;dbl&gt; | Parch &lt;dbl&gt; | Ticket &lt;chr&gt; | Fare &lt;dbl&gt; | Cabin &lt;chr&gt; | Embarked &lt;chr&gt; |\n",
       "|---|---|---|---|---|---|---|---|---|---|---|---|\n",
       "| 1 | 0 | 3 | Braund, Mr. Owen Harris                             | male   | 22 | 1 | 0 | A/5 21171        |  7.2500 | NA   | S |\n",
       "| 2 | 1 | 1 | Cumings, Mrs. John Bradley (Florence Briggs Thayer) | female | 38 | 1 | 0 | PC 17599         | 71.2833 | C85  | C |\n",
       "| 3 | 1 | 3 | Heikkinen, Miss. Laina                              | female | 26 | 0 | 0 | STON/O2. 3101282 |  7.9250 | NA   | S |\n",
       "| 4 | 1 | 1 | Futrelle, Mrs. Jacques Heath (Lily May Peel)        | female | 35 | 1 | 0 | 113803           | 53.1000 | C123 | S |\n",
       "| 5 | 0 | 3 | Allen, Mr. William Henry                            | male   | 35 | 0 | 0 | 373450           |  8.0500 | NA   | S |\n",
       "| 6 | 0 | 3 | Moran, Mr. James                                    | male   | NA | 0 | 0 | 330877           |  8.4583 | NA   | Q |\n",
       "\n"
      ],
      "text/plain": [
       "  PassengerId Survived Pclass\n",
       "1 1           0        3     \n",
       "2 2           1        1     \n",
       "3 3           1        3     \n",
       "4 4           1        1     \n",
       "5 5           0        3     \n",
       "6 6           0        3     \n",
       "  Name                                                Sex    Age SibSp Parch\n",
       "1 Braund, Mr. Owen Harris                             male   22  1     0    \n",
       "2 Cumings, Mrs. John Bradley (Florence Briggs Thayer) female 38  1     0    \n",
       "3 Heikkinen, Miss. Laina                              female 26  0     0    \n",
       "4 Futrelle, Mrs. Jacques Heath (Lily May Peel)        female 35  1     0    \n",
       "5 Allen, Mr. William Henry                            male   35  0     0    \n",
       "6 Moran, Mr. James                                    male   NA  0     0    \n",
       "  Ticket           Fare    Cabin Embarked\n",
       "1 A/5 21171         7.2500 NA    S       \n",
       "2 PC 17599         71.2833 C85   C       \n",
       "3 STON/O2. 3101282  7.9250 NA    S       \n",
       "4 113803           53.1000 C123  S       \n",
       "5 373450            8.0500 NA    S       \n",
       "6 330877            8.4583 NA    Q       "
      ]
     },
     "metadata": {},
     "output_type": "display_data"
    }
   ],
   "source": [
    "head(titanic_data)\n",
    "\n"
   ]
  },
  {
   "cell_type": "markdown",
   "metadata": {},
   "source": [
    "The variables include\n",
    "* Sex - self evident\n",
    "* P class - Their travel Class -first,second,or third class.\n",
    "* Sibp - Number of siblings on board.\n",
    "* Parch - Number of parents on board.\n",
    "* Fare - Fare paid for the ticket.\n",
    "* Cabin- Number of the cabin occupied.\n",
    "* Embarked - The location from which the passenger embarked.\n",
    "* Ticket - Ticket id of the passenger.\n"
   ]
  },
  {
   "cell_type": "markdown",
   "metadata": {},
   "source": [
    "### Data Exploration"
   ]
  },
  {
   "cell_type": "markdown",
   "metadata": {},
   "source": [
    "Checking the dimensions and the descriptive statistics of the data -"
   ]
  },
  {
   "cell_type": "code",
   "execution_count": 137,
   "metadata": {},
   "outputs": [
    {
     "name": "stdout",
     "output_type": "stream",
     "text": [
      "tibble [1,309 x 12] (S3: spec_tbl_df/tbl_df/tbl/data.frame)\n",
      " $ PassengerId: num [1:1309] 1 2 3 4 5 6 7 8 9 10 ...\n",
      " $ Survived   : num [1:1309] 0 1 1 1 0 0 0 0 1 1 ...\n",
      " $ Pclass     : num [1:1309] 3 1 3 1 3 3 1 3 3 2 ...\n",
      " $ Name       : chr [1:1309] \"Braund, Mr. Owen Harris\" \"Cumings, Mrs. John Bradley (Florence Briggs Thayer)\" \"Heikkinen, Miss. Laina\" \"Futrelle, Mrs. Jacques Heath (Lily May Peel)\" ...\n",
      " $ Sex        : chr [1:1309] \"male\" \"female\" \"female\" \"female\" ...\n",
      " $ Age        : num [1:1309] 22 38 26 35 35 NA 54 2 27 14 ...\n",
      " $ SibSp      : num [1:1309] 1 1 0 1 0 0 0 3 0 1 ...\n",
      " $ Parch      : num [1:1309] 0 0 0 0 0 0 0 1 2 0 ...\n",
      " $ Ticket     : chr [1:1309] \"A/5 21171\" \"PC 17599\" \"STON/O2. 3101282\" \"113803\" ...\n",
      " $ Fare       : num [1:1309] 7.25 71.28 7.92 53.1 8.05 ...\n",
      " $ Cabin      : chr [1:1309] NA \"C85\" NA \"C123\" ...\n",
      " $ Embarked   : chr [1:1309] \"S\" \"C\" \"S\" \"S\" ...\n"
     ]
    },
    {
     "data": {
      "text/html": [
       "<style>\n",
       ".list-inline {list-style: none; margin:0; padding: 0}\n",
       ".list-inline>li {display: inline-block}\n",
       ".list-inline>li:not(:last-child)::after {content: \"\\00b7\"; padding: 0 .5ex}\n",
       "</style>\n",
       "<ol class=list-inline><li>1309</li><li>12</li></ol>\n"
      ],
      "text/latex": [
       "\\begin{enumerate*}\n",
       "\\item 1309\n",
       "\\item 12\n",
       "\\end{enumerate*}\n"
      ],
      "text/markdown": [
       "1. 1309\n",
       "2. 12\n",
       "\n",
       "\n"
      ],
      "text/plain": [
       "[1] 1309   12"
      ]
     },
     "metadata": {},
     "output_type": "display_data"
    },
    {
     "data": {
      "text/plain": [
       "  PassengerId      Survived          Pclass          Name          \n",
       " Min.   :   1   Min.   :0.0000   Min.   :1.000   Length:1309       \n",
       " 1st Qu.: 328   1st Qu.:0.0000   1st Qu.:2.000   Class :character  \n",
       " Median : 655   Median :0.0000   Median :3.000   Mode  :character  \n",
       " Mean   : 655   Mean   :0.3838   Mean   :2.295                     \n",
       " 3rd Qu.: 982   3rd Qu.:1.0000   3rd Qu.:3.000                     \n",
       " Max.   :1309   Max.   :1.0000   Max.   :3.000                     \n",
       "                NA's   :418                                        \n",
       "     Sex                 Age            SibSp            Parch      \n",
       " Length:1309        Min.   : 0.17   Min.   :0.0000   Min.   :0.000  \n",
       " Class :character   1st Qu.:21.00   1st Qu.:0.0000   1st Qu.:0.000  \n",
       " Mode  :character   Median :28.00   Median :0.0000   Median :0.000  \n",
       "                    Mean   :29.88   Mean   :0.4989   Mean   :0.385  \n",
       "                    3rd Qu.:39.00   3rd Qu.:1.0000   3rd Qu.:0.000  \n",
       "                    Max.   :80.00   Max.   :8.0000   Max.   :9.000  \n",
       "                    NA's   :263                                     \n",
       "    Ticket               Fare            Cabin             Embarked        \n",
       " Length:1309        Min.   :  0.000   Length:1309        Length:1309       \n",
       " Class :character   1st Qu.:  7.896   Class :character   Class :character  \n",
       " Mode  :character   Median : 14.454   Mode  :character   Mode  :character  \n",
       "                    Mean   : 33.295                                        \n",
       "                    3rd Qu.: 31.275                                        \n",
       "                    Max.   :512.329                                        \n",
       "                    NA's   :1                                              "
      ]
     },
     "metadata": {},
     "output_type": "display_data"
    }
   ],
   "source": [
    "\n",
    "str(titanic_data) \n",
    "dim(titanic_data)\n",
    "summary(titanic_data)\n",
    "\n"
   ]
  },
  {
   "cell_type": "markdown",
   "metadata": {},
   "source": [
    "### Checking for Missing Data"
   ]
  },
  {
   "cell_type": "code",
   "execution_count": 138,
   "metadata": {},
   "outputs": [
    {
     "data": {
      "text/plain": [
       "\n",
       "FALSE  TRUE \n",
       "14010  1698 "
      ]
     },
     "metadata": {},
     "output_type": "display_data"
    }
   ],
   "source": [
    "table(is.na.data.frame(titanic_data))\n",
    "\n"
   ]
  },
  {
   "cell_type": "markdown",
   "metadata": {},
   "source": [
    "**Age and Cabin have the most missing values,with the cabin value missing in more than 75% of the observations.**"
   ]
  },
  {
   "cell_type": "markdown",
   "metadata": {},
   "source": [
    "Since most of the information in Cabin is shared by the fare variable,we can comfortably drop the Cabin Column."
   ]
  },
  {
   "cell_type": "code",
   "execution_count": 139,
   "metadata": {},
   "outputs": [],
   "source": [
    "titanic_data <- subset(titanic_data, select = -c(Cabin))\n"
   ]
  },
  {
   "cell_type": "markdown",
   "metadata": {},
   "source": [
    "We can also fill in C for the two missing embarked column,which is its most common value.\n",
    "\n"
   ]
  },
  {
   "cell_type": "code",
   "execution_count": 141,
   "metadata": {},
   "outputs": [],
   "source": [
    "\n",
    "\n",
    "for(i in 1:nrow(titanic_data))\n",
    "    {\n",
    "    if(is.na(titanic_data$Embarked[i])==\"TRUE\")\n",
    "        {\n",
    "        \n",
    "   titanic_data$Embarked[i]=\"C\"\n",
    "    }\n",
    "    \n",
    "}\n"
   ]
  },
  {
   "cell_type": "markdown",
   "metadata": {},
   "source": [
    "Let us try to clean the data,and fill in the missing values for age.\n",
    "\n",
    "* Male Children below 14 are titled Master,however we cannot differentiate between female adults and children in this manner."
   ]
  },
  {
   "cell_type": "code",
   "execution_count": 142,
   "metadata": {},
   "outputs": [],
   "source": [
    "\n",
    "\n",
    "\n",
    "for(i in 1:nrow(titanic_data))\n",
    "    {\n",
    "    if(grepl('Master',titanic_data$Name[i])==\"TRUE\" && is.na(titanic_data$Age[i])==\"TRUE\")\n",
    "        {\n",
    "        \n",
    "   titanic_data$Age[i]=4.57\n",
    "    }\n",
    "    \n",
    "}\n",
    "\n",
    "\n"
   ]
  },
  {
   "cell_type": "code",
   "execution_count": 143,
   "metadata": {},
   "outputs": [
    {
     "data": {
      "text/html": [
       "255"
      ],
      "text/latex": [
       "255"
      ],
      "text/markdown": [
       "255"
      ],
      "text/plain": [
       "[1] 255"
      ]
     },
     "metadata": {},
     "output_type": "display_data"
    }
   ],
   "source": [
    "sum(is.na(titanic_data$Age))"
   ]
  },
  {
   "cell_type": "markdown",
   "metadata": {},
   "source": [
    "### Now,to fill in the remaining age values let us use the 'mice' package for Nonparametric Missing Value Imputation using Random Forest"
   ]
  },
  {
   "cell_type": "code",
   "execution_count": 144,
   "metadata": {},
   "outputs": [
    {
     "name": "stdout",
     "output_type": "stream",
     "text": [
      "tibble [1,309 x 11] (S3: tbl_df/tbl/data.frame)\n",
      " $ PassengerId: num [1:1309] 1 2 3 4 5 6 7 8 9 10 ...\n",
      " $ Survived   : Factor w/ 2 levels \"0\",\"1\": 1 2 2 2 1 1 1 1 2 2 ...\n",
      " $ Pclass     : Factor w/ 3 levels \"1\",\"2\",\"3\": 3 1 3 1 3 3 1 3 3 2 ...\n",
      " $ Name       : Factor w/ 1307 levels \"Abbing, Mr. Anthony\",..: 156 287 531 430 23 826 775 922 613 855 ...\n",
      " $ Sex        : Factor w/ 2 levels \"female\",\"male\": 2 1 1 1 2 2 2 2 1 1 ...\n",
      " $ Age        : num [1:1309] 22 38 26 35 35 NA 54 2 27 14 ...\n",
      " $ SibSp      : num [1:1309] 1 1 0 1 0 0 0 3 0 1 ...\n",
      " $ Parch      : num [1:1309] 0 0 0 0 0 0 0 1 2 0 ...\n",
      " $ Ticket     : Factor w/ 929 levels \"110152\",\"110413\",..: 721 817 915 66 650 374 110 542 478 175 ...\n",
      " $ Fare       : num [1:1309] 7.25 71.28 7.92 53.1 8.05 ...\n",
      " $ Embarked   : Factor w/ 3 levels \"C\",\"Q\",\"S\": 3 1 3 3 3 2 3 3 3 1 ...\n"
     ]
    }
   ],
   "source": [
    "#Firstly,we need to reformat the data types for the variables for use with Random Forest\n",
    "    \n",
    "cols <- c(\"Survived\" ,\"Pclass\",\"Name\", \"Sex\",\"Ticket\",\"Embarked\",\"Survived\")\n",
    "titanic_data[cols] <- lapply(titanic_data[cols], factor)\n",
    "str(titanic_data)\n",
    "\n"
   ]
  },
  {
   "cell_type": "code",
   "execution_count": 145,
   "metadata": {},
   "outputs": [
    {
     "name": "stdout",
     "output_type": "stream",
     "text": [
      "\n",
      " iter imp variable\n",
      "  1   1  Age  Fare\n",
      "  1   2  Age  Fare\n",
      "  1   3  Age  Fare\n",
      "  1   4  Age  Fare\n",
      "  1   5  Age  Fare\n",
      "  2   1  Age  Fare\n",
      "  2   2  Age  Fare\n",
      "  2   3  Age  Fare\n",
      "  2   4  Age  Fare\n",
      "  2   5  Age  Fare\n",
      "  3   1  Age  Fare\n",
      "  3   2  Age  Fare\n",
      "  3   3  Age  Fare\n",
      "  3   4  Age  Fare\n",
      "  3   5  Age  Fare\n",
      "  4   1  Age  Fare\n",
      "  4   2  Age  Fare\n",
      "  4   3  Age  Fare\n",
      "  4   4  Age  Fare\n",
      "  4   5  Age  Fare\n",
      "  5   1  Age  Fare\n",
      "  5   2  Age  Fare\n",
      "  5   3  Age  Fare\n",
      "  5   4  Age  Fare\n",
      "  5   5  Age  Fare\n"
     ]
    }
   ],
   "source": [
    "mice_mod <- mice(titanic_data[, !names(titanic_data) %in% c('PassengerId','Name','Ticket','Cabin','Survived')], method='rf') \n",
    "mice_out <-complete(mice_mod)\n",
    "titanic_data$Age <-mice_out$Age"
   ]
  },
  {
   "cell_type": "markdown",
   "metadata": {},
   "source": [
    "Rechecking the number of blank values in age,we have -"
   ]
  },
  {
   "cell_type": "code",
   "execution_count": 146,
   "metadata": {},
   "outputs": [
    {
     "data": {
      "text/html": [
       "0"
      ],
      "text/latex": [
       "0"
      ],
      "text/markdown": [
       "0"
      ],
      "text/plain": [
       "[1] 0"
      ]
     },
     "metadata": {},
     "output_type": "display_data"
    }
   ],
   "source": [
    "sum(is.na(titanic_data$Age))"
   ]
  },
  {
   "cell_type": "markdown",
   "metadata": {},
   "source": [
    "## Feature Engineering"
   ]
  },
  {
   "cell_type": "markdown",
   "metadata": {},
   "source": [
    "Now let us extract the surnames of the passengers as well as the families.\n",
    "\n"
   ]
  },
  {
   "cell_type": "code",
   "execution_count": 147,
   "metadata": {},
   "outputs": [
    {
     "data": {
      "text/html": [
       "<table>\n",
       "<caption>A tibble: 6 × 12</caption>\n",
       "<thead>\n",
       "\t<tr><th scope=col>PassengerId</th><th scope=col>Survived</th><th scope=col>Pclass</th><th scope=col>Name</th><th scope=col>Sex</th><th scope=col>Age</th><th scope=col>SibSp</th><th scope=col>Parch</th><th scope=col>Ticket</th><th scope=col>Fare</th><th scope=col>Embarked</th><th scope=col>Title</th></tr>\n",
       "\t<tr><th scope=col>&lt;dbl&gt;</th><th scope=col>&lt;fct&gt;</th><th scope=col>&lt;fct&gt;</th><th scope=col>&lt;fct&gt;</th><th scope=col>&lt;fct&gt;</th><th scope=col>&lt;dbl&gt;</th><th scope=col>&lt;dbl&gt;</th><th scope=col>&lt;dbl&gt;</th><th scope=col>&lt;fct&gt;</th><th scope=col>&lt;dbl&gt;</th><th scope=col>&lt;fct&gt;</th><th scope=col>&lt;chr&gt;</th></tr>\n",
       "</thead>\n",
       "<tbody>\n",
       "\t<tr><td>1</td><td>0</td><td>3</td><td>Braund, Mr. Owen Harris                            </td><td>male  </td><td>22.0</td><td>1</td><td>0</td><td>A/5 21171       </td><td> 7.2500</td><td>S</td><td>Mr  </td></tr>\n",
       "\t<tr><td>2</td><td>1</td><td>1</td><td>Cumings, Mrs. John Bradley (Florence Briggs Thayer)</td><td>female</td><td>38.0</td><td>1</td><td>0</td><td>PC 17599        </td><td>71.2833</td><td>C</td><td>Mrs </td></tr>\n",
       "\t<tr><td>3</td><td>1</td><td>3</td><td>Heikkinen, Miss. Laina                             </td><td>female</td><td>26.0</td><td>0</td><td>0</td><td>STON/O2. 3101282</td><td> 7.9250</td><td>S</td><td>Miss</td></tr>\n",
       "\t<tr><td>4</td><td>1</td><td>1</td><td>Futrelle, Mrs. Jacques Heath (Lily May Peel)       </td><td>female</td><td>35.0</td><td>1</td><td>0</td><td>113803          </td><td>53.1000</td><td>S</td><td>Mrs </td></tr>\n",
       "\t<tr><td>5</td><td>0</td><td>3</td><td>Allen, Mr. William Henry                           </td><td>male  </td><td>35.0</td><td>0</td><td>0</td><td>373450          </td><td> 8.0500</td><td>S</td><td>Mr  </td></tr>\n",
       "\t<tr><td>6</td><td>0</td><td>3</td><td>Moran, Mr. James                                   </td><td>male  </td><td>28.5</td><td>0</td><td>0</td><td>330877          </td><td> 8.4583</td><td>Q</td><td>Mr  </td></tr>\n",
       "</tbody>\n",
       "</table>\n"
      ],
      "text/latex": [
       "A tibble: 6 × 12\n",
       "\\begin{tabular}{llllllllllll}\n",
       " PassengerId & Survived & Pclass & Name & Sex & Age & SibSp & Parch & Ticket & Fare & Embarked & Title\\\\\n",
       " <dbl> & <fct> & <fct> & <fct> & <fct> & <dbl> & <dbl> & <dbl> & <fct> & <dbl> & <fct> & <chr>\\\\\n",
       "\\hline\n",
       "\t 1 & 0 & 3 & Braund, Mr. Owen Harris                             & male   & 22.0 & 1 & 0 & A/5 21171        &  7.2500 & S & Mr  \\\\\n",
       "\t 2 & 1 & 1 & Cumings, Mrs. John Bradley (Florence Briggs Thayer) & female & 38.0 & 1 & 0 & PC 17599         & 71.2833 & C & Mrs \\\\\n",
       "\t 3 & 1 & 3 & Heikkinen, Miss. Laina                              & female & 26.0 & 0 & 0 & STON/O2. 3101282 &  7.9250 & S & Miss\\\\\n",
       "\t 4 & 1 & 1 & Futrelle, Mrs. Jacques Heath (Lily May Peel)        & female & 35.0 & 1 & 0 & 113803           & 53.1000 & S & Mrs \\\\\n",
       "\t 5 & 0 & 3 & Allen, Mr. William Henry                            & male   & 35.0 & 0 & 0 & 373450           &  8.0500 & S & Mr  \\\\\n",
       "\t 6 & 0 & 3 & Moran, Mr. James                                    & male   & 28.5 & 0 & 0 & 330877           &  8.4583 & Q & Mr  \\\\\n",
       "\\end{tabular}\n"
      ],
      "text/markdown": [
       "\n",
       "A tibble: 6 × 12\n",
       "\n",
       "| PassengerId &lt;dbl&gt; | Survived &lt;fct&gt; | Pclass &lt;fct&gt; | Name &lt;fct&gt; | Sex &lt;fct&gt; | Age &lt;dbl&gt; | SibSp &lt;dbl&gt; | Parch &lt;dbl&gt; | Ticket &lt;fct&gt; | Fare &lt;dbl&gt; | Embarked &lt;fct&gt; | Title &lt;chr&gt; |\n",
       "|---|---|---|---|---|---|---|---|---|---|---|---|\n",
       "| 1 | 0 | 3 | Braund, Mr. Owen Harris                             | male   | 22.0 | 1 | 0 | A/5 21171        |  7.2500 | S | Mr   |\n",
       "| 2 | 1 | 1 | Cumings, Mrs. John Bradley (Florence Briggs Thayer) | female | 38.0 | 1 | 0 | PC 17599         | 71.2833 | C | Mrs  |\n",
       "| 3 | 1 | 3 | Heikkinen, Miss. Laina                              | female | 26.0 | 0 | 0 | STON/O2. 3101282 |  7.9250 | S | Miss |\n",
       "| 4 | 1 | 1 | Futrelle, Mrs. Jacques Heath (Lily May Peel)        | female | 35.0 | 1 | 0 | 113803           | 53.1000 | S | Mrs  |\n",
       "| 5 | 0 | 3 | Allen, Mr. William Henry                            | male   | 35.0 | 0 | 0 | 373450           |  8.0500 | S | Mr   |\n",
       "| 6 | 0 | 3 | Moran, Mr. James                                    | male   | 28.5 | 0 | 0 | 330877           |  8.4583 | Q | Mr   |\n",
       "\n"
      ],
      "text/plain": [
       "  PassengerId Survived Pclass\n",
       "1 1           0        3     \n",
       "2 2           1        1     \n",
       "3 3           1        3     \n",
       "4 4           1        1     \n",
       "5 5           0        3     \n",
       "6 6           0        3     \n",
       "  Name                                                Sex    Age  SibSp Parch\n",
       "1 Braund, Mr. Owen Harris                             male   22.0 1     0    \n",
       "2 Cumings, Mrs. John Bradley (Florence Briggs Thayer) female 38.0 1     0    \n",
       "3 Heikkinen, Miss. Laina                              female 26.0 0     0    \n",
       "4 Futrelle, Mrs. Jacques Heath (Lily May Peel)        female 35.0 1     0    \n",
       "5 Allen, Mr. William Henry                            male   35.0 0     0    \n",
       "6 Moran, Mr. James                                    male   28.5 0     0    \n",
       "  Ticket           Fare    Embarked Title\n",
       "1 A/5 21171         7.2500 S        Mr   \n",
       "2 PC 17599         71.2833 C        Mrs  \n",
       "3 STON/O2. 3101282  7.9250 S        Miss \n",
       "4 113803           53.1000 S        Mrs  \n",
       "5 373450            8.0500 S        Mr   \n",
       "6 330877            8.4583 Q        Mr   "
      ]
     },
     "metadata": {},
     "output_type": "display_data"
    },
    {
     "data": {
      "text/plain": [
       "\n",
       "        Capt          Col          Don         Dona           Dr     Jonkheer \n",
       "           1            4            1            1            8            1 \n",
       "        Lady        Major       Master         Miss         Mlle          Mme \n",
       "           1            2           61          260            2            1 \n",
       "          Mr          Mrs           Ms          Rev          Sir the Countess \n",
       "         757          197            2            8            1            1 "
      ]
     },
     "metadata": {},
     "output_type": "display_data"
    }
   ],
   "source": [
    "\n",
    "\n",
    "\n",
    "titanic_data$Title <- gsub('(.*, )|(\\\\..*)', '', titanic_data$Name)\n",
    "head(titanic_data)\n",
    "table(titanic_data$Title)\n",
    "\n"
   ]
  },
  {
   "cell_type": "code",
   "execution_count": 148,
   "metadata": {},
   "outputs": [
    {
     "data": {
      "text/html": [
       "<table>\n",
       "<caption>A tibble: 6 × 12</caption>\n",
       "<thead>\n",
       "\t<tr><th scope=col>PassengerId</th><th scope=col>Survived</th><th scope=col>Pclass</th><th scope=col>Name</th><th scope=col>Sex</th><th scope=col>Age</th><th scope=col>SibSp</th><th scope=col>Parch</th><th scope=col>Ticket</th><th scope=col>Fare</th><th scope=col>Embarked</th><th scope=col>Title</th></tr>\n",
       "\t<tr><th scope=col>&lt;dbl&gt;</th><th scope=col>&lt;fct&gt;</th><th scope=col>&lt;fct&gt;</th><th scope=col>&lt;fct&gt;</th><th scope=col>&lt;fct&gt;</th><th scope=col>&lt;dbl&gt;</th><th scope=col>&lt;dbl&gt;</th><th scope=col>&lt;dbl&gt;</th><th scope=col>&lt;fct&gt;</th><th scope=col>&lt;dbl&gt;</th><th scope=col>&lt;fct&gt;</th><th scope=col>&lt;chr&gt;</th></tr>\n",
       "</thead>\n",
       "<tbody>\n",
       "\t<tr><td>1</td><td>0</td><td>3</td><td>Braund, Mr. Owen Harris                            </td><td>male  </td><td>22.0</td><td>1</td><td>0</td><td>A/5 21171       </td><td> 7.2500</td><td>S</td><td>Mr  </td></tr>\n",
       "\t<tr><td>2</td><td>1</td><td>1</td><td>Cumings, Mrs. John Bradley (Florence Briggs Thayer)</td><td>female</td><td>38.0</td><td>1</td><td>0</td><td>PC 17599        </td><td>71.2833</td><td>C</td><td>Mrs </td></tr>\n",
       "\t<tr><td>3</td><td>1</td><td>3</td><td>Heikkinen, Miss. Laina                             </td><td>female</td><td>26.0</td><td>0</td><td>0</td><td>STON/O2. 3101282</td><td> 7.9250</td><td>S</td><td>Miss</td></tr>\n",
       "\t<tr><td>4</td><td>1</td><td>1</td><td>Futrelle, Mrs. Jacques Heath (Lily May Peel)       </td><td>female</td><td>35.0</td><td>1</td><td>0</td><td>113803          </td><td>53.1000</td><td>S</td><td>Mrs </td></tr>\n",
       "\t<tr><td>5</td><td>0</td><td>3</td><td>Allen, Mr. William Henry                           </td><td>male  </td><td>35.0</td><td>0</td><td>0</td><td>373450          </td><td> 8.0500</td><td>S</td><td>Mr  </td></tr>\n",
       "\t<tr><td>6</td><td>0</td><td>3</td><td>Moran, Mr. James                                   </td><td>male  </td><td>28.5</td><td>0</td><td>0</td><td>330877          </td><td> 8.4583</td><td>Q</td><td>Mr  </td></tr>\n",
       "</tbody>\n",
       "</table>\n"
      ],
      "text/latex": [
       "A tibble: 6 × 12\n",
       "\\begin{tabular}{llllllllllll}\n",
       " PassengerId & Survived & Pclass & Name & Sex & Age & SibSp & Parch & Ticket & Fare & Embarked & Title\\\\\n",
       " <dbl> & <fct> & <fct> & <fct> & <fct> & <dbl> & <dbl> & <dbl> & <fct> & <dbl> & <fct> & <chr>\\\\\n",
       "\\hline\n",
       "\t 1 & 0 & 3 & Braund, Mr. Owen Harris                             & male   & 22.0 & 1 & 0 & A/5 21171        &  7.2500 & S & Mr  \\\\\n",
       "\t 2 & 1 & 1 & Cumings, Mrs. John Bradley (Florence Briggs Thayer) & female & 38.0 & 1 & 0 & PC 17599         & 71.2833 & C & Mrs \\\\\n",
       "\t 3 & 1 & 3 & Heikkinen, Miss. Laina                              & female & 26.0 & 0 & 0 & STON/O2. 3101282 &  7.9250 & S & Miss\\\\\n",
       "\t 4 & 1 & 1 & Futrelle, Mrs. Jacques Heath (Lily May Peel)        & female & 35.0 & 1 & 0 & 113803           & 53.1000 & S & Mrs \\\\\n",
       "\t 5 & 0 & 3 & Allen, Mr. William Henry                            & male   & 35.0 & 0 & 0 & 373450           &  8.0500 & S & Mr  \\\\\n",
       "\t 6 & 0 & 3 & Moran, Mr. James                                    & male   & 28.5 & 0 & 0 & 330877           &  8.4583 & Q & Mr  \\\\\n",
       "\\end{tabular}\n"
      ],
      "text/markdown": [
       "\n",
       "A tibble: 6 × 12\n",
       "\n",
       "| PassengerId &lt;dbl&gt; | Survived &lt;fct&gt; | Pclass &lt;fct&gt; | Name &lt;fct&gt; | Sex &lt;fct&gt; | Age &lt;dbl&gt; | SibSp &lt;dbl&gt; | Parch &lt;dbl&gt; | Ticket &lt;fct&gt; | Fare &lt;dbl&gt; | Embarked &lt;fct&gt; | Title &lt;chr&gt; |\n",
       "|---|---|---|---|---|---|---|---|---|---|---|---|\n",
       "| 1 | 0 | 3 | Braund, Mr. Owen Harris                             | male   | 22.0 | 1 | 0 | A/5 21171        |  7.2500 | S | Mr   |\n",
       "| 2 | 1 | 1 | Cumings, Mrs. John Bradley (Florence Briggs Thayer) | female | 38.0 | 1 | 0 | PC 17599         | 71.2833 | C | Mrs  |\n",
       "| 3 | 1 | 3 | Heikkinen, Miss. Laina                              | female | 26.0 | 0 | 0 | STON/O2. 3101282 |  7.9250 | S | Miss |\n",
       "| 4 | 1 | 1 | Futrelle, Mrs. Jacques Heath (Lily May Peel)        | female | 35.0 | 1 | 0 | 113803           | 53.1000 | S | Mrs  |\n",
       "| 5 | 0 | 3 | Allen, Mr. William Henry                            | male   | 35.0 | 0 | 0 | 373450           |  8.0500 | S | Mr   |\n",
       "| 6 | 0 | 3 | Moran, Mr. James                                    | male   | 28.5 | 0 | 0 | 330877           |  8.4583 | Q | Mr   |\n",
       "\n"
      ],
      "text/plain": [
       "  PassengerId Survived Pclass\n",
       "1 1           0        3     \n",
       "2 2           1        1     \n",
       "3 3           1        3     \n",
       "4 4           1        1     \n",
       "5 5           0        3     \n",
       "6 6           0        3     \n",
       "  Name                                                Sex    Age  SibSp Parch\n",
       "1 Braund, Mr. Owen Harris                             male   22.0 1     0    \n",
       "2 Cumings, Mrs. John Bradley (Florence Briggs Thayer) female 38.0 1     0    \n",
       "3 Heikkinen, Miss. Laina                              female 26.0 0     0    \n",
       "4 Futrelle, Mrs. Jacques Heath (Lily May Peel)        female 35.0 1     0    \n",
       "5 Allen, Mr. William Henry                            male   35.0 0     0    \n",
       "6 Moran, Mr. James                                    male   28.5 0     0    \n",
       "  Ticket           Fare    Embarked Title\n",
       "1 A/5 21171         7.2500 S        Mr   \n",
       "2 PC 17599         71.2833 C        Mrs  \n",
       "3 STON/O2. 3101282  7.9250 S        Miss \n",
       "4 113803           53.1000 S        Mrs  \n",
       "5 373450            8.0500 S        Mr   \n",
       "6 330877            8.4583 Q        Mr   "
      ]
     },
     "metadata": {},
     "output_type": "display_data"
    },
    {
     "data": {
      "text/plain": [
       "\n",
       "  Major  Master    Miss      Mr     Mrs Royalty  Unique \n",
       "      2      61     264     757     198       6      21 "
      ]
     },
     "metadata": {},
     "output_type": "display_data"
    }
   ],
   "source": [
    "\n",
    "titanic_data$Title<- gsub('(Sir)|(the Countess)|(Don)|(Dona)|(Jonkheer)|(Lady)', 'Royalty', titanic_data$Title)\n",
    "titanic_data$Title[titanic_data$Title == 'Mlle']<- 'Miss' \n",
    "titanic_data$Title[titanic_data$Title == 'Ms'] <- 'Miss'\n",
    "titanic_data$Title[titanic_data$Title == 'Mme'] <- 'Mrs'\n",
    "titanic_data$Title[titanic_data$Title == 'Dr']<- 'Unique' \n",
    "titanic_data$Title[titanic_data$Title == 'Capt'] <- 'Unique'\n",
    "titanic_data$Title[titanic_data$Title == 'Col'] <- 'Unique'\n",
    "titanic_data$Title[titanic_data$Title == 'Rev'] <- 'Unique'\n",
    "head(titanic_data)\n",
    "table(titanic_data$Title)\n",
    "cols <- c(\"Title\")\n",
    "titanic_data[cols] <- lapply(titanic_data[cols], factor)\n"
   ]
  },
  {
   "cell_type": "markdown",
   "metadata": {},
   "source": [
    "Let us also gradient the age as age was most likely an important predictor of survival\n",
    "\n",
    "\n"
   ]
  },
  {
   "cell_type": "code",
   "execution_count": 149,
   "metadata": {},
   "outputs": [],
   "source": [
    "\n",
    "\n",
    "titanic_data$Age_range<-NA\n",
    "for(i in 1:nrow(titanic_data))\n",
    "    {\n",
    "    if((titanic_data$Age[i]>=0) &&(titanic_data$Age[i]<=5))\n",
    "        {\n",
    "        \n",
    "   titanic_data$Age_range[i]=1\n",
    "        \n",
    "      }\n",
    "     {\n",
    "    if((titanic_data$Age[i]>5) &&(titanic_data$Age[i]<=12))\n",
    "        {\n",
    "        \n",
    "   titanic_data$Age_range[i]=2\n",
    "        \n",
    "      }\n",
    "        \n",
    "    if((titanic_data$Age[i]>12) &&(titanic_data$Age[i]<=16))\n",
    "        {\n",
    "        \n",
    "   titanic_data$Age_range[i]=3\n",
    "        \n",
    "      }\n",
    "    if((titanic_data$Age[i]>16) &&(titanic_data$Age[i]<=45))\n",
    "        {\n",
    "        \n",
    "   titanic_data$Age_range[i]=4\n",
    "        \n",
    "      }\n",
    "    \n",
    "      if((titanic_data$Age[i]>45) &&(titanic_data$Age[i]<=60))\n",
    "        {\n",
    "        \n",
    "   titanic_data$Age_range[i]=5\n",
    "        \n",
    "      }\n",
    "      if((titanic_data$Age[i]>60))\n",
    "        {\n",
    "        \n",
    "   titanic_data$Age_range[i]=6\n",
    "        \n",
    "      }\n",
    "     \n",
    "}\n",
    "    \n",
    "}\n",
    "\n",
    "\n"
   ]
  },
  {
   "cell_type": "markdown",
   "metadata": {},
   "source": [
    "### Fitting the Random Forest Model\n"
   ]
  },
  {
   "cell_type": "code",
   "execution_count": 150,
   "metadata": {
    "scrolled": true
   },
   "outputs": [
    {
     "data": {
      "text/plain": [
       "\n",
       "  1   2   3   4   5   6 \n",
       " 77  42  45 964 141  40 "
      ]
     },
     "metadata": {},
     "output_type": "display_data"
    }
   ],
   "source": [
    "table(titanic_data$Age_range)"
   ]
  },
  {
   "cell_type": "markdown",
   "metadata": {},
   "source": [
    "Firstly.splitting the data into train and test data -"
   ]
  },
  {
   "cell_type": "code",
   "execution_count": 151,
   "metadata": {},
   "outputs": [],
   "source": [
    "\n",
    "train <- titanic_data[1:891,]\n",
    "test <- titanic_data[892:1309,]\n"
   ]
  },
  {
   "cell_type": "code",
   "execution_count": 152,
   "metadata": {},
   "outputs": [],
   "source": [
    "rf_model <- randomForest(Survived ~ Pclass + Sex + Age_range + SibSp + Parch + Title\n",
    "                                            +Fare + Embarked,\n",
    "                                            data = train)"
   ]
  },
  {
   "cell_type": "code",
   "execution_count": 153,
   "metadata": {},
   "outputs": [
    {
     "data": {
      "text/plain": [
       "\n",
       "Call:\n",
       " randomForest(formula = Survived ~ Pclass + Sex + Age_range +      SibSp + Parch + Title + Fare + Embarked, data = train) \n",
       "               Type of random forest: classification\n",
       "                     Number of trees: 500\n",
       "No. of variables tried at each split: 2\n",
       "\n",
       "        OOB estimate of  error rate: 16.95%\n",
       "Confusion matrix:\n",
       "    0   1 class.error\n",
       "0 504  45  0.08196721\n",
       "1 106 236  0.30994152"
      ]
     },
     "metadata": {},
     "output_type": "display_data"
    },
    {
     "data": {
      "text/html": [
       "<table>\n",
       "<caption>A data.frame: 8 × 2</caption>\n",
       "<thead>\n",
       "\t<tr><th></th><th scope=col>Variables</th><th scope=col>Importance</th></tr>\n",
       "\t<tr><th></th><th scope=col>&lt;chr&gt;</th><th scope=col>&lt;dbl&gt;</th></tr>\n",
       "</thead>\n",
       "<tbody>\n",
       "\t<tr><th scope=row>Pclass</th><td>Pclass   </td><td>34.12</td></tr>\n",
       "\t<tr><th scope=row>Sex</th><td>Sex      </td><td>56.38</td></tr>\n",
       "\t<tr><th scope=row>Age_range</th><td>Age_range</td><td>15.83</td></tr>\n",
       "\t<tr><th scope=row>SibSp</th><td>SibSp    </td><td>17.75</td></tr>\n",
       "\t<tr><th scope=row>Parch</th><td>Parch    </td><td>11.09</td></tr>\n",
       "\t<tr><th scope=row>Title</th><td>Title    </td><td>73.93</td></tr>\n",
       "\t<tr><th scope=row>Fare</th><td>Fare     </td><td>53.93</td></tr>\n",
       "\t<tr><th scope=row>Embarked</th><td>Embarked </td><td>10.82</td></tr>\n",
       "</tbody>\n",
       "</table>\n"
      ],
      "text/latex": [
       "A data.frame: 8 × 2\n",
       "\\begin{tabular}{r|ll}\n",
       "  & Variables & Importance\\\\\n",
       "  & <chr> & <dbl>\\\\\n",
       "\\hline\n",
       "\tPclass & Pclass    & 34.12\\\\\n",
       "\tSex & Sex       & 56.38\\\\\n",
       "\tAge\\_range & Age\\_range & 15.83\\\\\n",
       "\tSibSp & SibSp     & 17.75\\\\\n",
       "\tParch & Parch     & 11.09\\\\\n",
       "\tTitle & Title     & 73.93\\\\\n",
       "\tFare & Fare      & 53.93\\\\\n",
       "\tEmbarked & Embarked  & 10.82\\\\\n",
       "\\end{tabular}\n"
      ],
      "text/markdown": [
       "\n",
       "A data.frame: 8 × 2\n",
       "\n",
       "| <!--/--> | Variables &lt;chr&gt; | Importance &lt;dbl&gt; |\n",
       "|---|---|---|\n",
       "| Pclass | Pclass    | 34.12 |\n",
       "| Sex | Sex       | 56.38 |\n",
       "| Age_range | Age_range | 15.83 |\n",
       "| SibSp | SibSp     | 17.75 |\n",
       "| Parch | Parch     | 11.09 |\n",
       "| Title | Title     | 73.93 |\n",
       "| Fare | Fare      | 53.93 |\n",
       "| Embarked | Embarked  | 10.82 |\n",
       "\n"
      ],
      "text/plain": [
       "          Variables Importance\n",
       "Pclass    Pclass    34.12     \n",
       "Sex       Sex       56.38     \n",
       "Age_range Age_range 15.83     \n",
       "SibSp     SibSp     17.75     \n",
       "Parch     Parch     11.09     \n",
       "Title     Title     73.93     \n",
       "Fare      Fare      53.93     \n",
       "Embarked  Embarked  10.82     "
      ]
     },
     "metadata": {},
     "output_type": "display_data"
    },
    {
     "data": {
      "image/png": "[encoded data removed]",
      "text/plain": [
       "plot without title"
      ]
     },
     "metadata": {
      "image/png": {
       "height": 420,
       "width": 420
      },
      "text/plain": {
       "height": 420,
       "width": 420
      }
     },
     "output_type": "display_data"
    },
    {
     "data": {
      "image/png": "[encoded data removed]",
      "text/plain": [
       "Plot with title \"rf_model\""
      ]
     },
     "metadata": {
      "image/png": {
       "height": 420,
       "width": 420
      },
      "text/plain": {
       "height": 420,
       "width": 420
      }
     },
     "output_type": "display_data"
    }
   ],
   "source": [
    "rf_model\n",
    "importance    <- importance(rf_model)\n",
    "varImportance <- data.frame(Variables = row.names(importance), \n",
    "                            Importance = round(importance[ ,'MeanDecreaseGini'],2))\n",
    "varImportance\n",
    "\n",
    "\n",
    "# Create a rank variable based on importance\n",
    "rankImportance <- varImportance %>%\n",
    "  mutate(Rank = paste0('#',dense_rank(desc(Importance))))\n",
    "\n",
    "# Use ggplot2 to visualize the relative importance of variables\n",
    "ggplot(rankImportance, aes(x = reorder(Variables, Importance), \n",
    "    y = Importance, fill = Importance)) +\n",
    "  geom_bar(stat='identity') + \n",
    "  geom_text(aes(x = Variables, y = 0.5, label = Rank),\n",
    "    hjust=0, vjust=0.55, size = 4, colour = 'red') +\n",
    "  labs(x = 'Variables') +\n",
    "  coord_flip() + \n",
    "  theme_bw()\n",
    "\n",
    "plot(rf_model)"
   ]
  },
  {
   "cell_type": "markdown",
   "metadata": {},
   "source": [
    "The random forest model allows us an out of box error rate of less than 20%.\n",
    "\n",
    "\n",
    "Title is the most important variable,indicating that perhaps nobility were given preferential treatment in the evacuations.It could also be capturing the information which was contained in Sex.\n",
    "\n",
    "P class is understandably also a important variable,while age range is suprisingly a less important determiner.\n"
   ]
  },
  {
   "cell_type": "markdown",
   "metadata": {},
   "source": [
    "# References"
   ]
  },
  {
   "cell_type": "markdown",
   "metadata": {},
   "source": [
    "\n",
    "*   Hadley Wickham, Romain François, Lionel Henry and Kirill Müller\n",
    "  (2020). dplyr: A Grammar of Data Manipulation. R package version\n",
    "  0.8.5. https://CRAN.R-project.org/package=dplyr\n",
    "*  Daniel J. Stekhoven (2013). missForest: Nonparametric Missing Value\n",
    "  Imputation using Random Forest. R package version 1.4.\n",
    "\n",
    "\n",
    "* Stekhoven D. J., & Buehlmann, P. (2012). MissForest - non-parametric\n",
    "  missing value imputation for mixed-type data. Bioinformatics, 28(1),\n",
    "  112-118.\n",
    "  \n",
    "* H. Wickham. ggplot2: Elegant Graphics for Data Analysis.\n",
    "  Springer-Verlag New York, 2016.\n",
    "\n",
    "* Arne Henningsen and Ott Toomet (2011). maxLik: A package for maximum\n",
    "  likelihood estimation in R. Computational Statistics 26(3), 443-458.\n",
    "  DOI 10.1007/s00180-010-0217-1.\n",
    "\n",
    "\n",
    "* Stef van Buuren, Karin Groothuis-Oudshoorn (2011). mice: Multivariate\n",
    "  Imputation by Chained Equations in R. Journal of Statistical\n",
    "  Software, 45(3), 1-67. URL https://www.jstatsoft.org/v45/i03/.\n",
    "\n",
    "\n",
    "* Ishwaran H. and Kogalur U.B. (2020). Fast Unified Random Forests for\n",
    "  Survival, Regression, and Classification (RF-SRC), R package version\n",
    "  2.9.3.\n",
    "\n",
    "* Ishwaran H. and Kogalur U.B. (2007). Random survival forests for R. R\n",
    "  News 7(2), 25--31.\n",
    "* Ishwaran H., Kogalur U.B., Blackstone E.H. and Lauer M.S. (2008).\n",
    "  Random survival forests. Ann. Appl. Statist. 2(3), 841--860.\n",
    "\n",
    "* John Ehrlinger (2016). ggRandomForests: Visually Exploring Random\n",
    "  Forests. R package version 2.0.1.\n",
    "  https://CRAN.R-project.org/package=ggRandomForests\n",
    "\n",
    "\n",
    "* A. Liaw and M. Wiener (2002). Classification and Regression by\n",
    "  randomForest. R News 2(3), 18--22.\n",
    "\n",
    "* James, G., Witten, D., Hastie, T., &amp; Tibshirani, R. (2013). An introduction to statistical learning: With applications in R. New York: Springer.\n",
    "\n",
    "* Yiu, T. (2019, August 14). Understanding Random Forest. Retrieved August 28, 2020, from https://towardsdatascience.com/understanding-random-forest-58381e0602d2\n",
    "\n",
    "* Brieman,Leo (2001).Random Forests,Statistics Department,University of California Berkeley\n",
    "\n",
    "* Breiman, L. Random Forests. Machine Learning 45, 5–32 (2001). https://doi.org/10.1023/A:1010933404324\n",
    "\n",
    "\n",
    "* Breiman L, Friedman JH, Olshen R, Stone C (1984). Classification and Regression Trees.\n",
    "Wadsworth and Brooks, Monterey, CA.\n",
    "\n",
    "\n",
    "* Breiman L (1996a). “Bagging predictors.” Machine Learning, 26, 123–140.\n",
    "\n",
    "\n",
    "* Hastie T, Tibshirani R, Friedman JH (2009). The Elements of Statistical Learning: Data\n",
    "Mining, Inference, and Prediction. 2 edition. Springer. ISBN 978-0-387-84857-0.\n",
    "\n",
    "\n",
    "* Ishwaran H (2007). “Variable importance in binary regression trees and forests.” Electronic\n",
    "Journal of Statistics, 1, 519–537.\n",
    "\n",
    "* Ishwaran H, Kogalur UB (2007). “Random survival forests for R.” R News, 7, 25–31\n",
    "\n",
    "* Ehrlinger, J. (2015). ggRandomForests: Visually Exploring a Random Forest for Regression,arXiv e-prints, arXiv:1501.07196.\n",
    "\n",
    "* Leo Breiman. Out-of-bag estimation. Technical report, Statistics Department, University\n",
    "of California 1996, 1996b.\n",
    "\n",
    "\n",
    "\n",
    "\n",
    "\n",
    "\n",
    "\n",
    "\n",
    "\n",
    "\n",
    "\n",
    "\n",
    "\n",
    "\n"
   ]
  }
 ],
 "metadata": {
  "kernelspec": {
   "display_name": "R",
   "language": "R",
   "name": "ir"
  },
  "language_info": {
   "codemirror_mode": "r",
   "file_extension": ".r",
   "mimetype": "text/x-r-source",
   "name": "R",
   "pygments_lexer": "r",
   "version": "4.0.0"
  },
  "toc": {
   "base_numbering": 1,
   "nav_menu": {},
   "number_sections": false,
   "sideBar": true,
   "skip_h1_title": false,
   "title_cell": "Table of Contents",
   "title_sidebar": "Contents",
   "toc_cell": true,
   "toc_position": {
    "height": "calc(100% - 180px)",
    "left": "10px",
    "top": "150px",
    "width": "315.813px"
   },
   "toc_section_display": true,
   "toc_window_display": true
  }
 },
 "nbformat": 4,
 "nbformat_minor": 4
}
